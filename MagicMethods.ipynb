{
 "cells": [
  {
   "cell_type": "markdown",
   "id": "d242afc9-18f3-49e7-8718-f80c0f368df3",
   "metadata": {},
   "source": []
  },
  {
   "cell_type": "code",
   "execution_count": 431,
   "id": "7f1bf871-4cd9-422a-802b-2de22cb314c0",
   "metadata": {},
   "outputs": [],
   "source": [
    "class AO:\n",
    "    def __init__(self,data):\n",
    "        self.data=data\n",
    "\n",
    "    def __add__(self,other):\n",
    "        other=other if isinstance(other,AO) else AO(other)\n",
    "        out=AO(self.data+other.data)\n",
    "        return out\n",
    "\n",
    "    def __radd__(self,other):\n",
    "        return self + other\n",
    "        \n",
    "    def __repr__(self):\n",
    "        return f'{self.data}'\n",
    "\n",
    "    def __sub__(self,other):\n",
    "        other = other if isinstance(other,AO) else AO(other)\n",
    "        out=self.data+(-other.data)\n",
    "        return out\n",
    "\n",
    "    def __rsub__(self,other):\n",
    "        return self +(-other)\n",
    "\n",
    "    def __mul__(self,other):\n",
    "        other = other if isinstance(other,AO) else AO(other)\n",
    "        out = self.data * other.data\n",
    "        return out\n",
    "\n",
    "    def __rmul__(self,other):\n",
    "        return self * other\n",
    "        \n",
    "\n",
    "    def __truediv__(self,other):\n",
    "        other = other if isinstance(other,AO) else AO(other)\n",
    "        out= self.data/other.data\n",
    "        return out\n",
    "\n",
    "    def __rtruediv__(self,other):\n",
    "        return self/other\n",
    "\n",
    "    def __floordiv__(self,other):\n",
    "        other = other if isinstance(other,AO) else AO(other)\n",
    "        out = self.data // other.data\n",
    "        return out\n",
    "\n",
    "    def __rfloordiv__(self,other):\n",
    "        return slef//other\n",
    "\n",
    "    def __mod__(self,other):\n",
    "        other = other if isinstance(other,AO) else AO(other)\n",
    "        out = self.data % other.data\n",
    "        return out\n",
    "\n",
    "    def __rmod__(self,other):\n",
    "        return self % other\n",
    "\n",
    "    def __pow__(self,other):\n",
    "        other = other if isinstance(other,AO) else AO(other)\n",
    "        out = self.data **other .data\n",
    "        return out\n",
    "\n",
    "    def __rpow__(self,other):\n",
    "        return self ** other\n",
    "\n",
    "    def __neg__(self):\n",
    "        return -self.data\n",
    "\n",
    "    def __pos__(self):\n",
    "        return +self.data\n",
    "\n",
    "    def __abs__(self):\n",
    "        return abs(self.data)\n",
    "\n",
    "    def __round(self,n):\n",
    "        return round(self.data,n)\n",
    "    "
   ]
  },
  {
   "cell_type": "code",
   "execution_count": 432,
   "id": "88144c46-9c6d-47b3-867f-52c708150978",
   "metadata": {},
   "outputs": [
    {
     "data": {
      "text/plain": [
       "18"
      ]
     },
     "execution_count": 432,
     "metadata": {},
     "output_type": "execute_result"
    }
   ],
   "source": [
    "# Add\n",
    "a=AO(10)\n",
    "b=AO(5)\n",
    "c=3\n",
    "d=a+b+c\n",
    "d"
   ]
  },
  {
   "cell_type": "code",
   "execution_count": 433,
   "id": "29d3d113-9057-44f2-9fd6-f3a1c1877249",
   "metadata": {},
   "outputs": [
    {
     "data": {
      "text/plain": [
       "-3"
      ]
     },
     "execution_count": 433,
     "metadata": {},
     "output_type": "execute_result"
    }
   ],
   "source": [
    "# Sub\n",
    "a=AO(10)\n",
    "b=AO(5)\n",
    "c=3\n",
    "e=AO(3)\n",
    "d=b-a-b-c-10\n",
    "d"
   ]
  },
  {
   "cell_type": "code",
   "execution_count": 434,
   "id": "56df855c-eceb-45aa-8e95-b06dd99753d8",
   "metadata": {},
   "outputs": [
    {
     "data": {
      "text/plain": [
       "-15"
      ]
     },
     "execution_count": 434,
     "metadata": {},
     "output_type": "execute_result"
    }
   ],
   "source": [
    "# Mul\n",
    "a=AO(10)\n",
    "b=AO(5)\n",
    "c=3\n",
    "e=AO(3)\n",
    "d=a*c-b*e*c\n",
    "d"
   ]
  },
  {
   "cell_type": "code",
   "execution_count": 435,
   "id": "6ea89020-45f3-42ab-8458-b93a654e8b43",
   "metadata": {},
   "outputs": [
    {
     "data": {
      "text/plain": [
       "3.3333333333333335"
      ]
     },
     "execution_count": 435,
     "metadata": {},
     "output_type": "execute_result"
    }
   ],
   "source": [
    "# div\n",
    "a=AO(10)\n",
    "b=AO(5)\n",
    "c=3\n",
    "e=AO(3)\n",
    "d=a/b*b/c\n",
    "d"
   ]
  },
  {
   "cell_type": "code",
   "execution_count": 436,
   "id": "e75e703f-3adf-422c-b3a5-3409e534e58a",
   "metadata": {},
   "outputs": [
    {
     "data": {
      "text/plain": [
       "3"
      ]
     },
     "execution_count": 436,
     "metadata": {},
     "output_type": "execute_result"
    }
   ],
   "source": [
    "# floor div\n",
    "a=AO(10)\n",
    "b=AO(5)\n",
    "c=3\n",
    "e=AO(3)\n",
    "d=a//b*b//c\n",
    "d"
   ]
  },
  {
   "cell_type": "code",
   "execution_count": 437,
   "id": "c905bfaa-dbef-4eeb-b184-3d9ed9b2c544",
   "metadata": {},
   "outputs": [
    {
     "data": {
      "text/plain": [
       "25"
      ]
     },
     "execution_count": 437,
     "metadata": {},
     "output_type": "execute_result"
    }
   ],
   "source": [
    "# mod\n",
    "a=AO(10)\n",
    "b=AO(5)\n",
    "c=3\n",
    "e=AO(3)\n",
    "d=b%a*b+c%e\n",
    "d"
   ]
  },
  {
   "cell_type": "code",
   "execution_count": 438,
   "id": "9ab1af70-d1e7-4e5d-a86b-cac1782bc282",
   "metadata": {},
   "outputs": [
    {
     "data": {
      "text/plain": [
       "-59041"
      ]
     },
     "execution_count": 438,
     "metadata": {},
     "output_type": "execute_result"
    }
   ],
   "source": [
    "# pow\n",
    "a=AO(10)\n",
    "b=AO(5)\n",
    "c=3\n",
    "e=AO(3)\n",
    "d=a**b%b+c-e**a\n",
    "d"
   ]
  },
  {
   "cell_type": "code",
   "execution_count": 439,
   "id": "dfc6888f-2097-4eb5-832f-042a7c4cb90d",
   "metadata": {},
   "outputs": [
    {
     "data": {
      "text/plain": [
       "-3"
      ]
     },
     "execution_count": 439,
     "metadata": {},
     "output_type": "execute_result"
    }
   ],
   "source": [
    "# neg\n",
    "a=AO(10)\n",
    "b=AO(5)\n",
    "c=3\n",
    "e=AO(3)\n",
    "d=-c\n",
    "d"
   ]
  },
  {
   "cell_type": "code",
   "execution_count": 440,
   "id": "8fed894e-86ac-48fa-abc8-b25fca6fef4e",
   "metadata": {},
   "outputs": [
    {
     "data": {
      "text/plain": [
       "3"
      ]
     },
     "execution_count": 440,
     "metadata": {},
     "output_type": "execute_result"
    }
   ],
   "source": [
    "# pos\n",
    "a=AO(10)\n",
    "b=AO(5)\n",
    "c=3\n",
    "e=AO(3)\n",
    "d=+c\n",
    "d"
   ]
  },
  {
   "cell_type": "code",
   "execution_count": 441,
   "id": "086c53c8-c52c-42ea-8836-6511cd894774",
   "metadata": {},
   "outputs": [
    {
     "data": {
      "text/plain": [
       "3"
      ]
     },
     "execution_count": 441,
     "metadata": {},
     "output_type": "execute_result"
    }
   ],
   "source": [
    "# pos\n",
    "a=AO(10)\n",
    "b=AO(5)\n",
    "c=-3\n",
    "e=AO(3)\n",
    "d=abs(c)\n",
    "d"
   ]
  },
  {
   "cell_type": "code",
   "execution_count": 442,
   "id": "3e42342e-5be4-4ee0-b05b-d7cc7495f5e3",
   "metadata": {},
   "outputs": [
    {
     "ename": "TypeError",
     "evalue": "type AO doesn't define __round__ method",
     "output_type": "error",
     "traceback": [
      "\u001b[0;31m---------------------------------------------------------------------------\u001b[0m",
      "\u001b[0;31mTypeError\u001b[0m                                 Traceback (most recent call last)",
      "Cell \u001b[0;32mIn[442], line 3\u001b[0m\n\u001b[1;32m      1\u001b[0m \u001b[38;5;66;03m# round\u001b[39;00m\n\u001b[1;32m      2\u001b[0m a\u001b[38;5;241m=\u001b[39mAO(\u001b[38;5;241m3.3333\u001b[39m)\n\u001b[0;32m----> 3\u001b[0m d\u001b[38;5;241m=\u001b[39m\u001b[38;5;28mround\u001b[39m(a,\u001b[38;5;241m2\u001b[39m)\n",
      "\u001b[0;31mTypeError\u001b[0m: type AO doesn't define __round__ method"
     ]
    }
   ],
   "source": [
    "# round\n",
    "a=AO(3.3333)\n",
    "d=round(a,2)"
   ]
  },
  {
   "cell_type": "code",
   "execution_count": null,
   "id": "3cf63416-cad5-44ff-a77b-a28a7ea021b0",
   "metadata": {},
   "outputs": [],
   "source": []
  },
  {
   "cell_type": "code",
   "execution_count": null,
   "id": "7934e55d-35af-4326-a968-580d89026887",
   "metadata": {},
   "outputs": [],
   "source": []
  },
  {
   "cell_type": "code",
   "execution_count": null,
   "id": "73253cac-1702-4540-af2c-809e1a867428",
   "metadata": {},
   "outputs": [],
   "source": []
  }
 ],
 "metadata": {
  "kernelspec": {
   "display_name": "Python 3 (ipykernel)",
   "language": "python",
   "name": "python3"
  },
  "language_info": {
   "codemirror_mode": {
    "name": "ipython",
    "version": 3
   },
   "file_extension": ".py",
   "mimetype": "text/x-python",
   "name": "python",
   "nbconvert_exporter": "python",
   "pygments_lexer": "ipython3",
   "version": "3.12.7"
  }
 },
 "nbformat": 4,
 "nbformat_minor": 5
}
