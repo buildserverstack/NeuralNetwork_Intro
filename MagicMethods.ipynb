{
 "cells": [
  {
   "cell_type": "markdown",
   "id": "d242afc9-18f3-49e7-8718-f80c0f368df3",
   "metadata": {},
   "source": [
    "import copy"
   ]
  },
  {
   "cell_type": "code",
   "execution_count": 445,
   "id": "7f1bf871-4cd9-422a-802b-2de22cb314c0",
   "metadata": {},
   "outputs": [],
   "source": [
    "class AO:\n",
    "    def __init__(self,data):\n",
    "        self.data=data\n",
    "\n",
    "    def __add__(self,other):\n",
    "        other=other if isinstance(other,AO) else AO(other)\n",
    "        out=AO(self.data+other.data)\n",
    "        return out\n",
    "\n",
    "    def __radd__(self,other):\n",
    "        return self + other\n",
    "        \n",
    "    def __repr__(self):\n",
    "        return f'{AO(self.data)}'\n",
    "\n",
    "    def __sub__(self,other):\n",
    "        other = other if isinstance(other,AO) else AO(other)\n",
    "        out=self.data+(-other.data)\n",
    "        return out\n",
    "\n",
    "    def __rsub__(self,other):\n",
    "        return self +(-other)\n",
    "\n",
    "    def __mul__(self,other):\n",
    "        other = other if isinstance(other,AO) else AO(other)\n",
    "        out = self.data * other.data\n",
    "        return out\n",
    "\n",
    "    def __rmul__(self,other):\n",
    "        return self * other\n",
    "        \n",
    "\n",
    "    def __truediv__(self,other):\n",
    "        other = other if isinstance(other,AO) else AO(other)\n",
    "        out= self.data/other.data\n",
    "        return out\n",
    "\n",
    "    def __rtruediv__(self,other):\n",
    "        return self/other\n",
    "\n",
    "    def __floordiv__(self,other):\n",
    "        other = other if isinstance(other,AO) else AO(other)\n",
    "        out = self.data // other.data\n",
    "        return out\n",
    "\n",
    "    def __rfloordiv__(self,other):\n",
    "        return slef//other\n",
    "\n",
    "    def __mod__(self,other):\n",
    "        other = other if isinstance(other,AO) else AO(other)\n",
    "        out = self.data % other.data\n",
    "        return out\n",
    "\n",
    "    def __rmod__(self,other):\n",
    "        return self % other\n",
    "\n",
    "    def __pow__(self,other):\n",
    "        other = other if isinstance(other,AO) else AO(other)\n",
    "        out = self.data **other .data\n",
    "        return out\n",
    "\n",
    "    def __rpow__(self,other):\n",
    "        return self ** other\n",
    "\n",
    "    def __neg__(self):\n",
    "        return -self.data\n",
    "\n",
    "    def __pos__(self):\n",
    "        return +self.data\n",
    "\n",
    "    def __abs__(self):\n",
    "        return abs(self.data)\n",
    "\n",
    "    def __round__(self,n):\n",
    "        return round(self.data,n)\n",
    "\n",
    "\n",
    "    def __iadd__(self,other):\n",
    "        other =other if isinstance(other,AO) else AO(other)\n",
    "        self.data += other.data\n",
    "        return self\n",
    "\n",
    "    def __isub__(self,other):\n",
    "        other =other if isinstance(other,AO) else AO(other)\n",
    "        self.data -= other.data\n",
    "        return self\n",
    "\n",
    "    def __imul__(self,other):\n",
    "        other =other if isinstance(other,AO) else AO(other)\n",
    "        self.data *= other.data\n",
    "        return self\n",
    "\n",
    "    def __itruediv__(self,other):\n",
    "        other =other if isinstance(other,AO) else AO(other)\n",
    "        self.data /= other.data\n",
    "        return self\n",
    "\n",
    "    def __ifloordiv__(self,other):\n",
    "        other =other if isinstance(other,AO) else AO(other)\n",
    "        self.data //= other.data\n",
    "        return self\n",
    "\n",
    "    def __imod__(self,other):\n",
    "        other = other if isinstance(other,AO) else AO(other)\n",
    "        self.data %= other.data\n",
    "        return self\n",
    "\n",
    "    def __ipow__(self,other):\n",
    "        other = other if isinstance(other,AO) else AO(other)\n",
    "        self.data **= other.data\n",
    "        return self\n",
    "\n",
    "    def __eq__(self,other):\n",
    "        other = other if isinstance(other,AO) else AO(other)\n",
    "        out = self.data == other.data\n",
    "        return out\n",
    "\n",
    "    def __ne__(self,other):\n",
    "        other = other if isinstance(other,AO) else AO(other)\n",
    "        out = self.data != other.data\n",
    "        return out\n",
    "\n",
    "    def __lt__(self,other):\n",
    "        other = other if isinstance(other,AO) else AO(other)\n",
    "        out = self.data < other.data\n",
    "        return out\n",
    "\n",
    "    \n",
    "    def __le__(self,other):\n",
    "        other = other if isinstance(other,AO) else AO(other)\n",
    "        out = self.data <= other.data\n",
    "        return out\n",
    "\n",
    "    def __gt__(self,other):\n",
    "        other = other if isinstance(other,AO) else AO(other)\n",
    "        out = self.data > other.data\n",
    "        return out\n",
    "\n",
    "\n",
    "    def __ge__(self,other):\n",
    "        other = other if isinstance(other,AO) else AO(other)\n",
    "        out = self.data >= other.data\n",
    "        return out\n",
    "\n",
    "    def __str__(self):\n",
    "        return f'data = {self.data}'\n",
    "\n",
    "    # def __format__(self,format_spec):\n",
    "    #     if format_spec==\"UPPER\":\n",
    "    #         return f\" {'wow'.upper()} = {self.data}\"\n",
    "    #     elif format_spec==\"LOWER\":\n",
    "    #         return f\" {'WOW'.lower()} = {self.data} \"\n",
    "    #     else:\n",
    "    #         return f\"format_spec not matched \"\n",
    "            \n",
    "    def __bytes__(self):\n",
    "        return f\"{self.data}\".encode('utf-8')\n",
    "        \n",
    "\n",
    "    def __bool__(self):\n",
    "        return self.data!=0\n",
    "\n",
    "    def __int__(self):\n",
    "        return int(self.data)\n",
    "\n",
    "    def __float__(self):\n",
    "        return float(self.data)\n",
    "\n",
    "    def __complex__(self):\n",
    "        return complex(self.data)\n",
    "\n",
    "\n",
    "    def __index__(self):\n",
    "        return int(self.data)\n",
    "\n",
    "    # Container items\n",
    "    def __len__(self):\n",
    "        return len(self.data)\n",
    "\n",
    "    def __getitem__(self,index):\n",
    "        return self.data[index]\n",
    "\n",
    "    def __setitem__(self,index,value):\n",
    "        self[index]=value\n",
    "\n",
    "    def __delitem__(self,index):\n",
    "        del self.item[index]\n",
    "\n",
    "    def __contains__(self,value):\n",
    "        return value in self.data\n",
    "\n",
    "\n",
    "    # iteration\n",
    "    def __iter__(self):\n",
    "        self._index=0\n",
    "        return self\n",
    "\n",
    "    def __next__(self):\n",
    "        if self._index>=len(self.items):\n",
    "            raise StopIteration\n",
    "        value =  self.items[self._index]\n",
    "        self._index+=1\n",
    "        return value\n",
    "\n",
    "\n",
    "    def __reversed__(self):\n",
    "        return reversed(self.items)\n",
    "\n",
    "    def __call__(self):\n",
    "        return f'i have data = {self.data}'\n",
    "\n",
    "    def __enter__(self):\n",
    "        print(\"you have eneter the conetext\")\n",
    "        return self\n",
    "\n",
    "    def __exit__(self,exc_type, exc_value, traceback):\n",
    "        print(\"You have exited the context\")\n",
    "\n",
    "    def __hash__(self):\n",
    "        return hash((self.data))\n",
    "\n",
    "    def __eq__(self,other):\n",
    "        return isinstance(other,AO) and self.data==other.data\n",
    "\n",
    "    def __sizeof__(self):\n",
    "        return 64+self.data.__sizeof__()\n",
    "\n",
    "    def __copy__(self):\n",
    "        return AO(self.data)\n",
    "\n",
    "    def __deepcopy__(self,memo):\n",
    "        return AO(copy.deepcopy(self.data,memo))"
   ]
  },
  {
   "cell_type": "code",
   "execution_count": 372,
   "id": "88144c46-9c6d-47b3-867f-52c708150978",
   "metadata": {},
   "outputs": [
    {
     "data": {
      "text/plain": [
       "data = 18"
      ]
     },
     "execution_count": 372,
     "metadata": {},
     "output_type": "execute_result"
    }
   ],
   "source": [
    "# Add\n",
    "a=AO(10)\n",
    "b=AO(5)\n",
    "c=3\n",
    "d=a+b+c\n",
    "d"
   ]
  },
  {
   "cell_type": "code",
   "execution_count": 373,
   "id": "29d3d113-9057-44f2-9fd6-f3a1c1877249",
   "metadata": {},
   "outputs": [
    {
     "data": {
      "text/plain": [
       "-3"
      ]
     },
     "execution_count": 373,
     "metadata": {},
     "output_type": "execute_result"
    }
   ],
   "source": [
    "# Sub\n",
    "a=AO(10)\n",
    "b=AO(5)\n",
    "c=3\n",
    "e=AO(3)\n",
    "d=b-a-b-c-10\n",
    "d"
   ]
  },
  {
   "cell_type": "code",
   "execution_count": 374,
   "id": "56df855c-eceb-45aa-8e95-b06dd99753d8",
   "metadata": {},
   "outputs": [
    {
     "data": {
      "text/plain": [
       "-15"
      ]
     },
     "execution_count": 374,
     "metadata": {},
     "output_type": "execute_result"
    }
   ],
   "source": [
    "# Mul\n",
    "a=AO(10)\n",
    "b=AO(5)\n",
    "c=3\n",
    "e=AO(3)\n",
    "d=a*c-b*e*c\n",
    "d"
   ]
  },
  {
   "cell_type": "code",
   "execution_count": 375,
   "id": "6ea89020-45f3-42ab-8458-b93a654e8b43",
   "metadata": {},
   "outputs": [
    {
     "data": {
      "text/plain": [
       "3.3333333333333335"
      ]
     },
     "execution_count": 375,
     "metadata": {},
     "output_type": "execute_result"
    }
   ],
   "source": [
    "# div\n",
    "a=AO(10)\n",
    "b=AO(5)\n",
    "c=3\n",
    "e=AO(3)\n",
    "d=a/b*b/c\n",
    "d"
   ]
  },
  {
   "cell_type": "code",
   "execution_count": 376,
   "id": "e75e703f-3adf-422c-b3a5-3409e534e58a",
   "metadata": {},
   "outputs": [
    {
     "data": {
      "text/plain": [
       "3"
      ]
     },
     "execution_count": 376,
     "metadata": {},
     "output_type": "execute_result"
    }
   ],
   "source": [
    "# floor div\n",
    "a=AO(10)\n",
    "b=AO(5)\n",
    "c=3\n",
    "e=AO(3)\n",
    "d=a//b*b//c\n",
    "d"
   ]
  },
  {
   "cell_type": "code",
   "execution_count": 377,
   "id": "c905bfaa-dbef-4eeb-b184-3d9ed9b2c544",
   "metadata": {},
   "outputs": [
    {
     "data": {
      "text/plain": [
       "25"
      ]
     },
     "execution_count": 377,
     "metadata": {},
     "output_type": "execute_result"
    }
   ],
   "source": [
    "# mod\n",
    "a=AO(10)\n",
    "b=AO(5)\n",
    "c=3\n",
    "e=AO(3)\n",
    "d=b%a*b+c%e\n",
    "d"
   ]
  },
  {
   "cell_type": "code",
   "execution_count": 378,
   "id": "9ab1af70-d1e7-4e5d-a86b-cac1782bc282",
   "metadata": {},
   "outputs": [
    {
     "data": {
      "text/plain": [
       "-59041"
      ]
     },
     "execution_count": 378,
     "metadata": {},
     "output_type": "execute_result"
    }
   ],
   "source": [
    "# pow\n",
    "a=AO(10)\n",
    "b=AO(5)\n",
    "c=3\n",
    "e=AO(3)\n",
    "d=a**b%b+c-e**a\n",
    "d"
   ]
  },
  {
   "cell_type": "code",
   "execution_count": 379,
   "id": "dfc6888f-2097-4eb5-832f-042a7c4cb90d",
   "metadata": {},
   "outputs": [
    {
     "data": {
      "text/plain": [
       "-3"
      ]
     },
     "execution_count": 379,
     "metadata": {},
     "output_type": "execute_result"
    }
   ],
   "source": [
    "# neg\n",
    "a=AO(10)\n",
    "b=AO(5)\n",
    "c=3\n",
    "e=AO(3)\n",
    "d=-c\n",
    "d"
   ]
  },
  {
   "cell_type": "code",
   "execution_count": 380,
   "id": "8fed894e-86ac-48fa-abc8-b25fca6fef4e",
   "metadata": {},
   "outputs": [
    {
     "data": {
      "text/plain": [
       "3"
      ]
     },
     "execution_count": 380,
     "metadata": {},
     "output_type": "execute_result"
    }
   ],
   "source": [
    "# pos\n",
    "a=AO(10)\n",
    "b=AO(5)\n",
    "c=3\n",
    "e=AO(3)\n",
    "d=+c\n",
    "d"
   ]
  },
  {
   "cell_type": "code",
   "execution_count": 381,
   "id": "086c53c8-c52c-42ea-8836-6511cd894774",
   "metadata": {},
   "outputs": [
    {
     "data": {
      "text/plain": [
       "3"
      ]
     },
     "execution_count": 381,
     "metadata": {},
     "output_type": "execute_result"
    }
   ],
   "source": [
    "# pos\n",
    "a=AO(10)\n",
    "b=AO(5)\n",
    "c=-3\n",
    "e=AO(3)\n",
    "d=abs(c)\n",
    "d"
   ]
  },
  {
   "cell_type": "code",
   "execution_count": 382,
   "id": "3e42342e-5be4-4ee0-b05b-d7cc7495f5e3",
   "metadata": {},
   "outputs": [
    {
     "data": {
      "text/plain": [
       "3.33"
      ]
     },
     "execution_count": 382,
     "metadata": {},
     "output_type": "execute_result"
    }
   ],
   "source": [
    "# round\n",
    "a=AO(3.3333)\n",
    "d=round(a,2)\n",
    "d"
   ]
  },
  {
   "cell_type": "code",
   "execution_count": 383,
   "id": "3cf63416-cad5-44ff-a77b-a28a7ea021b0",
   "metadata": {},
   "outputs": [
    {
     "name": "stdout",
     "output_type": "stream",
     "text": [
      "data = 15\n"
     ]
    }
   ],
   "source": [
    "# instant add\n",
    "a=AO(10)\n",
    "b=AO(5)\n",
    "a+=b\n",
    "print(a)"
   ]
  },
  {
   "cell_type": "code",
   "execution_count": 384,
   "id": "7934e55d-35af-4326-a968-580d89026887",
   "metadata": {},
   "outputs": [
    {
     "name": "stdout",
     "output_type": "stream",
     "text": [
      "data = 5\n"
     ]
    }
   ],
   "source": [
    "# instant sub\n",
    "a=AO(10)\n",
    "b=AO(5)\n",
    "a-=b\n",
    "print(a)"
   ]
  },
  {
   "cell_type": "code",
   "execution_count": 385,
   "id": "73253cac-1702-4540-af2c-809e1a867428",
   "metadata": {},
   "outputs": [
    {
     "name": "stdout",
     "output_type": "stream",
     "text": [
      "data = 50\n"
     ]
    }
   ],
   "source": [
    "# instant mul\n",
    "a=AO(10)\n",
    "b=AO(5)\n",
    "a*=b\n",
    "print(a)"
   ]
  },
  {
   "cell_type": "code",
   "execution_count": 386,
   "id": "e743c2c8-9136-44c6-a5fb-4dbe94e7cbaa",
   "metadata": {},
   "outputs": [
    {
     "name": "stdout",
     "output_type": "stream",
     "text": [
      "data = 2.0\n"
     ]
    }
   ],
   "source": [
    "# instant div\n",
    "a=AO(10)\n",
    "b=AO(5)\n",
    "a/=b\n",
    "print(a)"
   ]
  },
  {
   "cell_type": "code",
   "execution_count": 387,
   "id": "d2696927-e472-4f19-8ffe-3186283fb2e2",
   "metadata": {},
   "outputs": [
    {
     "name": "stdout",
     "output_type": "stream",
     "text": [
      "data = 2\n"
     ]
    }
   ],
   "source": [
    "# instant floor div\n",
    "a=AO(10)\n",
    "b=AO(5)\n",
    "a//=b\n",
    "print(a)"
   ]
  },
  {
   "cell_type": "code",
   "execution_count": 388,
   "id": "8d7619e7-21e9-42dc-9cbe-155793f78b24",
   "metadata": {},
   "outputs": [
    {
     "name": "stdout",
     "output_type": "stream",
     "text": [
      "data = 10\n"
     ]
    }
   ],
   "source": [
    "# instant  mod\n",
    "a=AO(10)\n",
    "b=AO(5)\n",
    "b%=a\n",
    "print(a)"
   ]
  },
  {
   "cell_type": "code",
   "execution_count": 389,
   "id": "625dcfe4-658c-4468-ba0c-12734b4fc9a2",
   "metadata": {},
   "outputs": [
    {
     "name": "stdout",
     "output_type": "stream",
     "text": [
      "data = 100000\n"
     ]
    }
   ],
   "source": [
    "# instant  pov\n",
    "a=AO(10)\n",
    "b=AO(5)\n",
    "a**=b\n",
    "print(a)"
   ]
  },
  {
   "cell_type": "code",
   "execution_count": 390,
   "id": "54204266-c582-4f91-9753-71787ed36d6d",
   "metadata": {},
   "outputs": [
    {
     "name": "stdout",
     "output_type": "stream",
     "text": [
      "True\n"
     ]
    }
   ],
   "source": [
    "# comparsion operator equal\n",
    "a=AO(10)\n",
    "b=AO(10)\n",
    "print(a==b)\n"
   ]
  },
  {
   "cell_type": "code",
   "execution_count": 391,
   "id": "f6eb5f6e-91f4-461a-8e34-61d2ae3d378a",
   "metadata": {},
   "outputs": [
    {
     "name": "stdout",
     "output_type": "stream",
     "text": [
      "True\n",
      "False\n"
     ]
    }
   ],
   "source": [
    "# comparsion operator not equal\n",
    "a=AO(10)\n",
    "b=AO(5)\n",
    "print(a!=b)\n",
    "a=AO(10)\n",
    "b=AO(10)\n",
    "print(a!=b)"
   ]
  },
  {
   "cell_type": "code",
   "execution_count": 392,
   "id": "8f94ca3b-4f96-4b30-99b5-219772cd966d",
   "metadata": {},
   "outputs": [
    {
     "name": "stdout",
     "output_type": "stream",
     "text": [
      "False\n",
      "False\n"
     ]
    }
   ],
   "source": [
    "# comparsion operator less than\n",
    "a=AO(10)\n",
    "b=AO(5)\n",
    "print(a<b)\n",
    "a=AO(10)\n",
    "b=AO(10)\n",
    "print(a<b)"
   ]
  },
  {
   "cell_type": "code",
   "execution_count": 393,
   "id": "2e4e45fe-9af8-4361-901d-16e8b5bf00bb",
   "metadata": {},
   "outputs": [
    {
     "name": "stdout",
     "output_type": "stream",
     "text": [
      "False\n",
      "True\n"
     ]
    }
   ],
   "source": [
    "# comparsion operator less equal\n",
    "a=AO(10)\n",
    "b=AO(5)\n",
    "print(a<=b)\n",
    "a=AO(10)\n",
    "b=AO(10)\n",
    "print(a<=b)"
   ]
  },
  {
   "cell_type": "code",
   "execution_count": 394,
   "id": "097c766a-7fb6-420a-889e-5da9ebcd0d16",
   "metadata": {},
   "outputs": [
    {
     "name": "stdout",
     "output_type": "stream",
     "text": [
      "True\n",
      "False\n"
     ]
    }
   ],
   "source": [
    "# comparsion operator Greater than\n",
    "a=AO(10)\n",
    "b=AO(5)\n",
    "print(a>b)\n",
    "a=AO(10)\n",
    "b=AO(10)\n",
    "print(a>b)"
   ]
  },
  {
   "cell_type": "code",
   "execution_count": 395,
   "id": "961db055-6148-4bf5-9885-88139139f96e",
   "metadata": {},
   "outputs": [
    {
     "name": "stdout",
     "output_type": "stream",
     "text": [
      "False\n",
      "True\n"
     ]
    }
   ],
   "source": [
    "# comparsion operator Greater equal\n",
    "a=AO(10)\n",
    "b=AO(5)\n",
    "print(a<b)\n",
    "a=AO(10)\n",
    "b=AO(10)\n",
    "print(a>=b)"
   ]
  },
  {
   "cell_type": "code",
   "execution_count": 396,
   "id": "16cd63fb-9b8c-4eba-84e0-edec23462e3f",
   "metadata": {},
   "outputs": [
    {
     "name": "stdout",
     "output_type": "stream",
     "text": [
      "data = 10\n",
      "data = 10\n",
      "b'10'\n"
     ]
    }
   ],
   "source": [
    "# Obejct Representation\n",
    "a=AO(10)\n",
    "print(repr(a))\n",
    "print(str(a))\n",
    "# print(format(a,\"UPPER\"))\n",
    "print(bytes(a))\n"
   ]
  },
  {
   "cell_type": "code",
   "execution_count": 397,
   "id": "f47986b5-2aa4-4d82-8de6-53bae1b5ca69",
   "metadata": {},
   "outputs": [
    {
     "name": "stdout",
     "output_type": "stream",
     "text": [
      "True\n",
      "10\n",
      "20.0\n",
      "(20+0j)\n",
      "data = 1\n"
     ]
    }
   ],
   "source": [
    "# type conversion\n",
    "a=AO(10.0)\n",
    "print(bool(a))\n",
    "print(int(a))\n",
    "b=AO(20)\n",
    "print(float(b))\n",
    "print(complex(b))\n",
    "b=[AO(1),AO(2),AO(2),AO(10)]\n",
    "print(b[0])"
   ]
  },
  {
   "cell_type": "code",
   "execution_count": 398,
   "id": "10255f3b-aaf8-4f26-801b-1febd6fda706",
   "metadata": {},
   "outputs": [
    {
     "data": {
      "text/plain": [
       "data = 7"
      ]
     },
     "execution_count": 398,
     "metadata": {},
     "output_type": "execute_result"
    }
   ],
   "source": [
    "# Container methods\n",
    "mylist=[AO(1),AO(2),AO(3),AO(4),AO(5),AO(6),AO(7)]\n",
    "a=len(mylist)\n",
    "\n",
    "b=mylist[6]\n",
    "b"
   ]
  },
  {
   "cell_type": "code",
   "execution_count": 399,
   "id": "411c41cc-f3a6-499a-838b-dbff3b201d79",
   "metadata": {},
   "outputs": [
    {
     "data": {
      "text/plain": [
       "[data = 1, data = 20, data = 3, data = 4, data = 5, data = 6, data = 7]"
      ]
     },
     "execution_count": 399,
     "metadata": {},
     "output_type": "execute_result"
    }
   ],
   "source": [
    "mylist[1]=AO(20)\n",
    "mylist"
   ]
  },
  {
   "cell_type": "code",
   "execution_count": 400,
   "id": "19abb772-5a95-478e-bd9d-9f2041bbd575",
   "metadata": {},
   "outputs": [
    {
     "data": {
      "text/plain": [
       "[data = 1, data = 3, data = 4, data = 5, data = 6, data = 7]"
      ]
     },
     "execution_count": 400,
     "metadata": {},
     "output_type": "execute_result"
    }
   ],
   "source": [
    "del mylist[1]\n",
    "mylist"
   ]
  },
  {
   "cell_type": "code",
   "execution_count": 401,
   "id": "3b14dba4-241e-4c8e-a6f5-0b6c48ce51d4",
   "metadata": {},
   "outputs": [
    {
     "data": {
      "text/plain": [
       "[data = 1, data = 3, data = 4, data = 5, data = 6, data = 7]"
      ]
     },
     "execution_count": 401,
     "metadata": {},
     "output_type": "execute_result"
    }
   ],
   "source": [
    "mylist"
   ]
  },
  {
   "cell_type": "code",
   "execution_count": 402,
   "id": "869e9594-c794-46d9-b382-daae4a58ee1e",
   "metadata": {},
   "outputs": [
    {
     "data": {
      "text/plain": [
       "False"
      ]
     },
     "execution_count": 402,
     "metadata": {},
     "output_type": "execute_result"
    }
   ],
   "source": [
    "300 in mylist"
   ]
  },
  {
   "cell_type": "code",
   "execution_count": 403,
   "id": "8455cb9f-218d-48bb-968e-67fb2d189483",
   "metadata": {},
   "outputs": [
    {
     "data": {
      "text/plain": [
       "False"
      ]
     },
     "execution_count": 403,
     "metadata": {},
     "output_type": "execute_result"
    }
   ],
   "source": [
    "3 in mylist"
   ]
  },
  {
   "cell_type": "code",
   "execution_count": 404,
   "id": "51f2518a-c863-4bb3-9219-6dc5b4361b87",
   "metadata": {},
   "outputs": [
    {
     "name": "stdout",
     "output_type": "stream",
     "text": [
      "data = 1\n",
      "data = 3\n",
      "data = 4\n",
      "data = 5\n",
      "data = 6\n",
      "data = 7\n"
     ]
    }
   ],
   "source": [
    "# Iteration\n",
    "for i in mylist:\n",
    "    print(i)"
   ]
  },
  {
   "cell_type": "code",
   "execution_count": 405,
   "id": "a99f153d-8ba9-4d6c-8395-204b5843a8d9",
   "metadata": {},
   "outputs": [
    {
     "name": "stdout",
     "output_type": "stream",
     "text": [
      "data = 1\n",
      "data = 3\n",
      "data = 4\n"
     ]
    }
   ],
   "source": [
    "it=iter(mylist)\n",
    "print(next(it))\n",
    "print(next(it))\n",
    "print(next(it))"
   ]
  },
  {
   "cell_type": "code",
   "execution_count": 406,
   "id": "1f4c3170-9348-4cbd-88b9-5b6d97082d51",
   "metadata": {},
   "outputs": [
    {
     "name": "stdout",
     "output_type": "stream",
     "text": [
      "data = 7\n",
      "data = 6\n",
      "data = 5\n",
      "data = 4\n",
      "data = 3\n",
      "data = 1\n"
     ]
    }
   ],
   "source": [
    "for x in reversed(mylist):\n",
    "    print(x)"
   ]
  },
  {
   "cell_type": "code",
   "execution_count": 407,
   "id": "b9bdd8c3-53ba-4253-b30d-f2f6d739f930",
   "metadata": {},
   "outputs": [
    {
     "data": {
      "text/plain": [
       "'i have data = abcdefg'"
      ]
     },
     "execution_count": 407,
     "metadata": {},
     "output_type": "execute_result"
    }
   ],
   "source": [
    "# Callable functions\n",
    "A=AO(\"abcdefg\")\n",
    "A()"
   ]
  },
  {
   "cell_type": "code",
   "execution_count": 408,
   "id": "ebcf5cc2-9e47-4571-93fe-4ab549b87418",
   "metadata": {},
   "outputs": [
    {
     "data": {
      "text/plain": [
       "data = abcdefg"
      ]
     },
     "execution_count": 408,
     "metadata": {},
     "output_type": "execute_result"
    }
   ],
   "source": [
    "A"
   ]
  },
  {
   "cell_type": "code",
   "execution_count": 409,
   "id": "82c34041-7133-46fc-8752-cb6267a33e47",
   "metadata": {},
   "outputs": [
    {
     "name": "stdout",
     "output_type": "stream",
     "text": [
      "you have eneter the conetext\n",
      "data = 1\n",
      "You have exited the context\n"
     ]
    }
   ],
   "source": [
    "# Eneter the context\n",
    "with AO(1) as value:\n",
    "    print(value)"
   ]
  },
  {
   "cell_type": "code",
   "execution_count": 421,
   "id": "12ac38cb-d3e7-4d3f-a4d8-0cc2e05f2695",
   "metadata": {},
   "outputs": [
    {
     "name": "stdout",
     "output_type": "stream",
     "text": [
      "1\n",
      "False\n",
      "{data = 20000, data = 1}\n"
     ]
    }
   ],
   "source": [
    "a=AO(1)\n",
    "b=AO(20000)\n",
    "print(hash(a))\n",
    "print(a==b)\n",
    "print({a,b})"
   ]
  },
  {
   "cell_type": "code",
   "execution_count": 422,
   "id": "7bbb86bc-1326-42d7-8269-7d4043ed2bfd",
   "metadata": {},
   "outputs": [
    {
     "name": "stdout",
     "output_type": "stream",
     "text": [
      "92\n"
     ]
    }
   ],
   "source": [
    "print(a.__sizeof__())"
   ]
  },
  {
   "cell_type": "code",
   "execution_count": 423,
   "id": "d529ebf2-5078-4f54-926d-633822901f0d",
   "metadata": {},
   "outputs": [
    {
     "name": "stdout",
     "output_type": "stream",
     "text": [
      "92\n"
     ]
    }
   ],
   "source": [
    "print(b.__sizeof__())"
   ]
  },
  {
   "cell_type": "code",
   "execution_count": 428,
   "id": "16c3a4f7-d11c-43be-973e-9c1cc466521d",
   "metadata": {},
   "outputs": [],
   "source": [
    "a=AO(1)\n",
    "a\n",
    "del a # in real life use the enter and exit conetext"
   ]
  },
  {
   "cell_type": "code",
   "execution_count": 460,
   "id": "01dd1098-c868-488b-b129-8cd8d0cb62b0",
   "metadata": {},
   "outputs": [
    {
     "data": {
      "text/plain": [
       "data = 10"
      ]
     },
     "execution_count": 460,
     "metadata": {},
     "output_type": "execute_result"
    }
   ],
   "source": [
    "a=AO(10)\n",
    "b=copy.copy(a)\n",
    "b.data=1\n",
    "a"
   ]
  },
  {
   "cell_type": "code",
   "execution_count": 461,
   "id": "019165ca-b346-4bb6-80f6-cbc33b78af16",
   "metadata": {},
   "outputs": [],
   "source": [
    "c=copy.deepcopy(a)"
   ]
  },
  {
   "cell_type": "code",
   "execution_count": 462,
   "id": "6443f7df-08c6-4cc3-ad3c-10be39467924",
   "metadata": {},
   "outputs": [
    {
     "data": {
      "text/plain": [
       "11"
      ]
     },
     "execution_count": 462,
     "metadata": {},
     "output_type": "execute_result"
    }
   ],
   "source": [
    "c.data+1"
   ]
  },
  {
   "cell_type": "code",
   "execution_count": 463,
   "id": "e360b330-9c1f-4971-aeec-030ca6e6577e",
   "metadata": {},
   "outputs": [
    {
     "data": {
      "text/plain": [
       "data = 10"
      ]
     },
     "execution_count": 463,
     "metadata": {},
     "output_type": "execute_result"
    }
   ],
   "source": [
    "a"
   ]
  },
  {
   "cell_type": "code",
   "execution_count": null,
   "id": "7c99d280-b44f-489c-aebe-5491ebbf5793",
   "metadata": {},
   "outputs": [],
   "source": []
  }
 ],
 "metadata": {
  "kernelspec": {
   "display_name": "Python 3 (ipykernel)",
   "language": "python",
   "name": "python3"
  },
  "language_info": {
   "codemirror_mode": {
    "name": "ipython",
    "version": 3
   },
   "file_extension": ".py",
   "mimetype": "text/x-python",
   "name": "python",
   "nbconvert_exporter": "python",
   "pygments_lexer": "ipython3",
   "version": "3.12.7"
  }
 },
 "nbformat": 4,
 "nbformat_minor": 5
}
