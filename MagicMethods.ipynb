{
 "cells": [
  {
   "cell_type": "markdown",
   "id": "d242afc9-18f3-49e7-8718-f80c0f368df3",
   "metadata": {},
   "source": []
  },
  {
   "cell_type": "code",
   "execution_count": 631,
   "id": "7f1bf871-4cd9-422a-802b-2de22cb314c0",
   "metadata": {},
   "outputs": [],
   "source": [
    "class AO:\n",
    "    def __init__(self,data):\n",
    "        self.data=data\n",
    "\n",
    "    def __add__(self,other):\n",
    "        other=other if isinstance(other,AO) else AO(other)\n",
    "        out=AO(self.data+other.data)\n",
    "        return out\n",
    "\n",
    "    def __radd__(self,other):\n",
    "        return self + other\n",
    "        \n",
    "    def __repr__(self):\n",
    "        return f'{self.data}'\n",
    "\n",
    "    def __sub__(self,other):\n",
    "        other = other if isinstance(other,AO) else AO(other)\n",
    "        out=self.data+(-other.data)\n",
    "        return out\n",
    "\n",
    "    def __rsub__(self,other):\n",
    "        return self +(-other)\n",
    "\n",
    "    def __mul__(self,other):\n",
    "        other = other if isinstance(other,AO) else AO(other)\n",
    "        out = self.data * other.data\n",
    "        return out\n",
    "\n",
    "    def __rmul__(self,other):\n",
    "        return self * other\n",
    "        \n",
    "\n",
    "    def __truediv__(self,other):\n",
    "        other = other if isinstance(other,AO) else AO(other)\n",
    "        out= self.data/other.data\n",
    "        return out\n",
    "\n",
    "    def __rtruediv__(self,other):\n",
    "        return self/other\n",
    "\n",
    "    def __floordiv__(self,other):\n",
    "        other = other if isinstance(other,AO) else AO(other)\n",
    "        out = self.data // other.data\n",
    "        return out\n",
    "\n",
    "    def __rfloordiv__(self,other):\n",
    "        return slef//other\n",
    "\n",
    "    def __mod__(self,other):\n",
    "        other = other if isinstance(other,AO) else AO(other)\n",
    "        out = self.data % other.data\n",
    "        return out\n",
    "\n",
    "    def __rmod__(self,other):\n",
    "        return self % other\n",
    "\n",
    "    def __pow__(self,other):\n",
    "        other = other if isinstance(other,AO) else AO(other)\n",
    "        out = self.data **other .data\n",
    "        return out\n",
    "\n",
    "    def __rpow__(self,other):\n",
    "        return self ** other\n",
    "\n",
    "    def __neg__(self):\n",
    "        return -self.data\n",
    "\n",
    "    def __pos__(self):\n",
    "        return +self.data\n",
    "\n",
    "    def __abs__(self):\n",
    "        return abs(self.data)\n",
    "\n",
    "    def __round__(self,n):\n",
    "        return round(self.data,n)\n",
    "\n",
    "\n",
    "    def __iadd__(self,other):\n",
    "        other =other if isinstance(other,AO) else AO(other)\n",
    "        self.data += other.data\n",
    "        return self\n",
    "\n",
    "    def __isub__(self,other):\n",
    "        other =other if isinstance(other,AO) else AO(other)\n",
    "        self.data -= other.data\n",
    "        return self\n",
    "\n",
    "    def __imul__(self,other):\n",
    "        other =other if isinstance(other,AO) else AO(other)\n",
    "        self.data *= other.data\n",
    "        return self\n",
    "\n",
    "    def __itruediv__(self,other):\n",
    "        other =other if isinstance(other,AO) else AO(other)\n",
    "        self.data /= other.data\n",
    "        return self\n",
    "\n",
    "    def __ifloordiv__(self,other):\n",
    "        other =other if isinstance(other,AO) else AO(other)\n",
    "        self.data //= other.data\n",
    "        return self\n",
    "\n",
    "    def __imod__(self,other):\n",
    "        other = other if isinstance(other,AO) else AO(other)\n",
    "        self.data %= other.data\n",
    "        return self\n",
    "\n",
    "    def __ipow__(self,other):\n",
    "        other = other if isinstance(other,AO) else AO(other)\n",
    "        self.data **= other.data\n",
    "        return self\n",
    "\n",
    "    def __eq__(self,other):\n",
    "        other = other if isinstance(other,AO) else AO(other)\n",
    "        out = self.data == other.data\n",
    "        return out\n",
    "\n",
    "    def __ne__(self,other):\n",
    "        other = other if isinstance(other,AO) else AO(other)\n",
    "        out = self.data != other.data\n",
    "        return out\n",
    "\n",
    "    def __lt__(self,other):\n",
    "        other = other if isinstance(other,AO) else AO(other)\n",
    "        out = self.data < other.data\n",
    "        return out\n",
    "\n",
    "    \n",
    "    def __le__(self,other):\n",
    "        other = other if isinstance(other,AO) else AO(other)\n",
    "        out = self.data <= other.data\n",
    "        return out\n",
    "\n",
    "    def __gt__(self,other):\n",
    "        other = other if isinstance(other,AO) else AO(other)\n",
    "        out = self.data > other.data\n",
    "        return out\n",
    "\n",
    "\n",
    "    def __ge__(self,other):\n",
    "        other = other if isinstance(other,AO) else AO(other)\n",
    "        out = self.data >= other.data\n",
    "        return out\n",
    "    \n",
    "\n",
    "    \n",
    "    "
   ]
  },
  {
   "cell_type": "code",
   "execution_count": 632,
   "id": "88144c46-9c6d-47b3-867f-52c708150978",
   "metadata": {},
   "outputs": [
    {
     "data": {
      "text/plain": [
       "18"
      ]
     },
     "execution_count": 632,
     "metadata": {},
     "output_type": "execute_result"
    }
   ],
   "source": [
    "# Add\n",
    "a=AO(10)\n",
    "b=AO(5)\n",
    "c=3\n",
    "d=a+b+c\n",
    "d"
   ]
  },
  {
   "cell_type": "code",
   "execution_count": 633,
   "id": "29d3d113-9057-44f2-9fd6-f3a1c1877249",
   "metadata": {},
   "outputs": [
    {
     "data": {
      "text/plain": [
       "-3"
      ]
     },
     "execution_count": 633,
     "metadata": {},
     "output_type": "execute_result"
    }
   ],
   "source": [
    "# Sub\n",
    "a=AO(10)\n",
    "b=AO(5)\n",
    "c=3\n",
    "e=AO(3)\n",
    "d=b-a-b-c-10\n",
    "d"
   ]
  },
  {
   "cell_type": "code",
   "execution_count": 634,
   "id": "56df855c-eceb-45aa-8e95-b06dd99753d8",
   "metadata": {},
   "outputs": [
    {
     "data": {
      "text/plain": [
       "-15"
      ]
     },
     "execution_count": 634,
     "metadata": {},
     "output_type": "execute_result"
    }
   ],
   "source": [
    "# Mul\n",
    "a=AO(10)\n",
    "b=AO(5)\n",
    "c=3\n",
    "e=AO(3)\n",
    "d=a*c-b*e*c\n",
    "d"
   ]
  },
  {
   "cell_type": "code",
   "execution_count": 635,
   "id": "6ea89020-45f3-42ab-8458-b93a654e8b43",
   "metadata": {},
   "outputs": [
    {
     "data": {
      "text/plain": [
       "3.3333333333333335"
      ]
     },
     "execution_count": 635,
     "metadata": {},
     "output_type": "execute_result"
    }
   ],
   "source": [
    "# div\n",
    "a=AO(10)\n",
    "b=AO(5)\n",
    "c=3\n",
    "e=AO(3)\n",
    "d=a/b*b/c\n",
    "d"
   ]
  },
  {
   "cell_type": "code",
   "execution_count": 636,
   "id": "e75e703f-3adf-422c-b3a5-3409e534e58a",
   "metadata": {},
   "outputs": [
    {
     "data": {
      "text/plain": [
       "3"
      ]
     },
     "execution_count": 636,
     "metadata": {},
     "output_type": "execute_result"
    }
   ],
   "source": [
    "# floor div\n",
    "a=AO(10)\n",
    "b=AO(5)\n",
    "c=3\n",
    "e=AO(3)\n",
    "d=a//b*b//c\n",
    "d"
   ]
  },
  {
   "cell_type": "code",
   "execution_count": 637,
   "id": "c905bfaa-dbef-4eeb-b184-3d9ed9b2c544",
   "metadata": {},
   "outputs": [
    {
     "data": {
      "text/plain": [
       "25"
      ]
     },
     "execution_count": 637,
     "metadata": {},
     "output_type": "execute_result"
    }
   ],
   "source": [
    "# mod\n",
    "a=AO(10)\n",
    "b=AO(5)\n",
    "c=3\n",
    "e=AO(3)\n",
    "d=b%a*b+c%e\n",
    "d"
   ]
  },
  {
   "cell_type": "code",
   "execution_count": 638,
   "id": "9ab1af70-d1e7-4e5d-a86b-cac1782bc282",
   "metadata": {},
   "outputs": [
    {
     "data": {
      "text/plain": [
       "-59041"
      ]
     },
     "execution_count": 638,
     "metadata": {},
     "output_type": "execute_result"
    }
   ],
   "source": [
    "# pow\n",
    "a=AO(10)\n",
    "b=AO(5)\n",
    "c=3\n",
    "e=AO(3)\n",
    "d=a**b%b+c-e**a\n",
    "d"
   ]
  },
  {
   "cell_type": "code",
   "execution_count": 639,
   "id": "dfc6888f-2097-4eb5-832f-042a7c4cb90d",
   "metadata": {},
   "outputs": [
    {
     "data": {
      "text/plain": [
       "-3"
      ]
     },
     "execution_count": 639,
     "metadata": {},
     "output_type": "execute_result"
    }
   ],
   "source": [
    "# neg\n",
    "a=AO(10)\n",
    "b=AO(5)\n",
    "c=3\n",
    "e=AO(3)\n",
    "d=-c\n",
    "d"
   ]
  },
  {
   "cell_type": "code",
   "execution_count": 640,
   "id": "8fed894e-86ac-48fa-abc8-b25fca6fef4e",
   "metadata": {},
   "outputs": [
    {
     "data": {
      "text/plain": [
       "3"
      ]
     },
     "execution_count": 640,
     "metadata": {},
     "output_type": "execute_result"
    }
   ],
   "source": [
    "# pos\n",
    "a=AO(10)\n",
    "b=AO(5)\n",
    "c=3\n",
    "e=AO(3)\n",
    "d=+c\n",
    "d"
   ]
  },
  {
   "cell_type": "code",
   "execution_count": 641,
   "id": "086c53c8-c52c-42ea-8836-6511cd894774",
   "metadata": {},
   "outputs": [
    {
     "data": {
      "text/plain": [
       "3"
      ]
     },
     "execution_count": 641,
     "metadata": {},
     "output_type": "execute_result"
    }
   ],
   "source": [
    "# pos\n",
    "a=AO(10)\n",
    "b=AO(5)\n",
    "c=-3\n",
    "e=AO(3)\n",
    "d=abs(c)\n",
    "d"
   ]
  },
  {
   "cell_type": "code",
   "execution_count": 642,
   "id": "3e42342e-5be4-4ee0-b05b-d7cc7495f5e3",
   "metadata": {},
   "outputs": [
    {
     "data": {
      "text/plain": [
       "3.33"
      ]
     },
     "execution_count": 642,
     "metadata": {},
     "output_type": "execute_result"
    }
   ],
   "source": [
    "# round\n",
    "a=AO(3.3333)\n",
    "d=round(a,2)\n",
    "d"
   ]
  },
  {
   "cell_type": "code",
   "execution_count": 643,
   "id": "3cf63416-cad5-44ff-a77b-a28a7ea021b0",
   "metadata": {},
   "outputs": [
    {
     "name": "stdout",
     "output_type": "stream",
     "text": [
      "15\n"
     ]
    }
   ],
   "source": [
    "# instant add\n",
    "a=AO(10)\n",
    "b=AO(5)\n",
    "a+=b\n",
    "print(a)"
   ]
  },
  {
   "cell_type": "code",
   "execution_count": 644,
   "id": "7934e55d-35af-4326-a968-580d89026887",
   "metadata": {},
   "outputs": [
    {
     "name": "stdout",
     "output_type": "stream",
     "text": [
      "5\n"
     ]
    }
   ],
   "source": [
    "# instant sub\n",
    "a=AO(10)\n",
    "b=AO(5)\n",
    "a-=b\n",
    "print(a)"
   ]
  },
  {
   "cell_type": "code",
   "execution_count": 645,
   "id": "73253cac-1702-4540-af2c-809e1a867428",
   "metadata": {},
   "outputs": [
    {
     "name": "stdout",
     "output_type": "stream",
     "text": [
      "50\n"
     ]
    }
   ],
   "source": [
    "# instant mul\n",
    "a=AO(10)\n",
    "b=AO(5)\n",
    "a*=b\n",
    "print(a)"
   ]
  },
  {
   "cell_type": "code",
   "execution_count": 646,
   "id": "e743c2c8-9136-44c6-a5fb-4dbe94e7cbaa",
   "metadata": {},
   "outputs": [
    {
     "name": "stdout",
     "output_type": "stream",
     "text": [
      "2.0\n"
     ]
    }
   ],
   "source": [
    "# instant div\n",
    "a=AO(10)\n",
    "b=AO(5)\n",
    "a/=b\n",
    "print(a)"
   ]
  },
  {
   "cell_type": "code",
   "execution_count": 647,
   "id": "d2696927-e472-4f19-8ffe-3186283fb2e2",
   "metadata": {},
   "outputs": [
    {
     "name": "stdout",
     "output_type": "stream",
     "text": [
      "2\n"
     ]
    }
   ],
   "source": [
    "# instant floor div\n",
    "a=AO(10)\n",
    "b=AO(5)\n",
    "a//=b\n",
    "print(a)"
   ]
  },
  {
   "cell_type": "code",
   "execution_count": 648,
   "id": "8d7619e7-21e9-42dc-9cbe-155793f78b24",
   "metadata": {},
   "outputs": [
    {
     "name": "stdout",
     "output_type": "stream",
     "text": [
      "10\n"
     ]
    }
   ],
   "source": [
    "# instant  mod\n",
    "a=AO(10)\n",
    "b=AO(5)\n",
    "b%=a\n",
    "print(a)"
   ]
  },
  {
   "cell_type": "code",
   "execution_count": 649,
   "id": "625dcfe4-658c-4468-ba0c-12734b4fc9a2",
   "metadata": {},
   "outputs": [
    {
     "name": "stdout",
     "output_type": "stream",
     "text": [
      "100000\n"
     ]
    }
   ],
   "source": [
    "# instant  pov\n",
    "a=AO(10)\n",
    "b=AO(5)\n",
    "a**=b\n",
    "print(a)"
   ]
  },
  {
   "cell_type": "code",
   "execution_count": 650,
   "id": "54204266-c582-4f91-9753-71787ed36d6d",
   "metadata": {},
   "outputs": [
    {
     "name": "stdout",
     "output_type": "stream",
     "text": [
      "True\n"
     ]
    }
   ],
   "source": [
    "# comparsion operator equal\n",
    "a=AO(10)\n",
    "b=AO(10)\n",
    "print(a==b)\n"
   ]
  },
  {
   "cell_type": "code",
   "execution_count": 654,
   "id": "f6eb5f6e-91f4-461a-8e34-61d2ae3d378a",
   "metadata": {},
   "outputs": [
    {
     "name": "stdout",
     "output_type": "stream",
     "text": [
      "True\n",
      "False\n"
     ]
    }
   ],
   "source": [
    "# comparsion operator not equal\n",
    "a=AO(10)\n",
    "b=AO(5)\n",
    "print(a!=b)\n",
    "a=AO(10)\n",
    "b=AO(10)\n",
    "print(a!=b)"
   ]
  },
  {
   "cell_type": "code",
   "execution_count": 655,
   "id": "8f94ca3b-4f96-4b30-99b5-219772cd966d",
   "metadata": {},
   "outputs": [
    {
     "name": "stdout",
     "output_type": "stream",
     "text": [
      "False\n",
      "False\n"
     ]
    }
   ],
   "source": [
    "# comparsion operator less than\n",
    "a=AO(10)\n",
    "b=AO(5)\n",
    "print(a<b)\n",
    "a=AO(10)\n",
    "b=AO(10)\n",
    "print(a<b)"
   ]
  },
  {
   "cell_type": "code",
   "execution_count": 656,
   "id": "2e4e45fe-9af8-4361-901d-16e8b5bf00bb",
   "metadata": {},
   "outputs": [
    {
     "name": "stdout",
     "output_type": "stream",
     "text": [
      "False\n",
      "True\n"
     ]
    }
   ],
   "source": [
    "# comparsion operator less equal\n",
    "a=AO(10)\n",
    "b=AO(5)\n",
    "print(a<=b)\n",
    "a=AO(10)\n",
    "b=AO(10)\n",
    "print(a<=b)"
   ]
  },
  {
   "cell_type": "code",
   "execution_count": 657,
   "id": "097c766a-7fb6-420a-889e-5da9ebcd0d16",
   "metadata": {},
   "outputs": [
    {
     "name": "stdout",
     "output_type": "stream",
     "text": [
      "True\n",
      "False\n"
     ]
    }
   ],
   "source": [
    "# comparsion operator Greater than\n",
    "a=AO(10)\n",
    "b=AO(5)\n",
    "print(a>b)\n",
    "a=AO(10)\n",
    "b=AO(10)\n",
    "print(a>b)"
   ]
  },
  {
   "cell_type": "code",
   "execution_count": 658,
   "id": "961db055-6148-4bf5-9885-88139139f96e",
   "metadata": {},
   "outputs": [
    {
     "name": "stdout",
     "output_type": "stream",
     "text": [
      "False\n",
      "True\n"
     ]
    }
   ],
   "source": [
    "# comparsion operator Greater equal\n",
    "a=AO(10)\n",
    "b=AO(5)\n",
    "print(a<b)\n",
    "a=AO(10)\n",
    "b=AO(10)\n",
    "print(a>=b)"
   ]
  },
  {
   "cell_type": "code",
   "execution_count": null,
   "id": "16cd63fb-9b8c-4eba-84e0-edec23462e3f",
   "metadata": {},
   "outputs": [],
   "source": []
  }
 ],
 "metadata": {
  "kernelspec": {
   "display_name": "Python 3 (ipykernel)",
   "language": "python",
   "name": "python3"
  },
  "language_info": {
   "codemirror_mode": {
    "name": "ipython",
    "version": 3
   },
   "file_extension": ".py",
   "mimetype": "text/x-python",
   "name": "python",
   "nbconvert_exporter": "python",
   "pygments_lexer": "ipython3",
   "version": "3.12.7"
  }
 },
 "nbformat": 4,
 "nbformat_minor": 5
}
