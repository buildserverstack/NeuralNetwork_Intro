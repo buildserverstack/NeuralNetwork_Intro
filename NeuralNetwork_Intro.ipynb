{
 "cells": [
  {
   "cell_type": "code",
   "execution_count": 1,
   "id": "d94ac13f-4564-406a-a10f-0a7590eb07bb",
   "metadata": {},
   "outputs": [],
   "source": [
    "import math\n",
    "import numpy as np\n",
    "import matplotlib.pyplot as plt\n",
    "%matplotlib inline"
   ]
  },
  {
   "cell_type": "code",
   "execution_count": 2,
   "id": "6d7c652e-ce19-4549-a190-7e23477d8c24",
   "metadata": {},
   "outputs": [],
   "source": [
    "def f(x):\n",
    "    return 3*x**2-4*x+5"
   ]
  },
  {
   "cell_type": "code",
   "execution_count": 3,
   "id": "4dd96fea-e8ba-4c07-bbd7-b724db363201",
   "metadata": {},
   "outputs": [
    {
     "data": {
      "text/plain": [
       "20"
      ]
     },
     "execution_count": 3,
     "metadata": {},
     "output_type": "execute_result"
    }
   ],
   "source": [
    "f(3)"
   ]
  },
  {
   "cell_type": "code",
   "execution_count": 4,
   "id": "4489f613-e70d-4f41-8fea-182a17923949",
   "metadata": {
    "scrolled": true
   },
   "outputs": [
    {
     "data": {
      "image/png": "[encoded data removed]",
      "text/plain": [
       "<Figure size 640x480 with 1 Axes>"
      ]
     },
     "metadata": {},
     "output_type": "display_data"
    }
   ],
   "source": [
    "xs=np.arange(-5,5,0.25)\n",
    "ys=f(xs)\n",
    "plt.plot(xs,ys)\n",
    "plt.show()"
   ]
  },
  {
   "cell_type": "code",
   "execution_count": 5,
   "id": "d4eed190-2d49-48c7-b6c7-b6e66dcdb857",
   "metadata": {},
   "outputs": [
    {
     "data": {
      "text/plain": [
       "0.0"
      ]
     },
     "execution_count": 5,
     "metadata": {},
     "output_type": "execute_result"
    }
   ],
   "source": [
    "h=0.000000001\n",
    "x=2/3\n",
    "(f(x+h)-f(x))/h"
   ]
  },
  {
   "cell_type": "code",
   "execution_count": 6,
   "id": "3582b73a-97fc-439a-b762-54cebdc43acb",
   "metadata": {},
   "outputs": [
    {
     "name": "stdout",
     "output_type": "stream",
     "text": [
      "d=4.0\n"
     ]
    }
   ],
   "source": [
    "# let do more complex derivative\n",
    "a=2.0\n",
    "b=-3.0\n",
    "c=10.0\n",
    "d1=a*b+c\n",
    "print(f'd={d1}')"
   ]
  },
  {
   "cell_type": "code",
   "execution_count": 7,
   "id": "a4767b4e-9082-46b0-89ee-9079b0d0d44a",
   "metadata": {},
   "outputs": [
    {
     "name": "stdout",
     "output_type": "stream",
     "text": [
      "d=4.0\n",
      "d2=3.999699999999999\n",
      "slope=-3.000000000010772\n"
     ]
    }
   ],
   "source": [
    "h=0.0001\n",
    "a=2.0\n",
    "b=-3.0\n",
    "c=10.0\n",
    "d1=a*b+c\n",
    "a+=h\n",
    "d2=a*b+c\n",
    "print(f'd={d1}')\n",
    "print(f'd2={d2}')\n",
    "print(f'slope={(d2-d1)/h}')"
   ]
  },
  {
   "cell_type": "code",
   "execution_count": 8,
   "id": "8485e2d2-45be-4604-969c-f39fe11cc27c",
   "metadata": {},
   "outputs": [],
   "source": [
    "# Neural Networks"
   ]
  },
  {
   "cell_type": "code",
   "execution_count": 9,
   "id": "d0949799-c5bc-490a-86c8-c6c9706a5046",
   "metadata": {},
   "outputs": [],
   "source": [
    "# Core Value object with visualization"
   ]
  },
  {
   "cell_type": "code",
   "execution_count": 131,
   "id": "94c2e599-490f-472d-b773-a604b794ffe1",
   "metadata": {},
   "outputs": [],
   "source": [
    "\n",
    "class Value:\n",
    "    \"\"\" stores a single scalar value and its gradient \"\"\"\n",
    "\n",
    "    def __init__(self, data, _children=(), _op=''):\n",
    "        self.data = data\n",
    "        self.grad = 0\n",
    "        # internal variables used for autograd graph construction\n",
    "        self._backward = lambda: None\n",
    "        self._prev = set(_children)\n",
    "        self._op = _op # the op that produced this node, for graphviz / debugging / etc\n",
    "\n",
    "    def __add__(self, other):\n",
    "        other = other if isinstance(other, Value) else Value(other)\n",
    "        out = Value(self.data + other.data, (self, other), '+')\n",
    "\n",
    "        def _backward():\n",
    "            self.grad += out.grad\n",
    "            other.grad += out.grad\n",
    "        out._backward = _backward\n",
    "\n",
    "        return out\n",
    "\n",
    "    def __mul__(self, other):\n",
    "        other = other if isinstance(other, Value) else Value(other)\n",
    "        out = Value(self.data * other.data, (self, other), '*')\n",
    "\n",
    "        def _backward():\n",
    "            self.grad += other.data * out.grad\n",
    "            other.grad += self.data * out.grad\n",
    "        out._backward = _backward\n",
    "\n",
    "        return out\n",
    "\n",
    "    def __pow__(self, other):\n",
    "        assert isinstance(other, (int, float)), \"only supporting int/float powers for now\"\n",
    "        out = Value(self.data**other, (self,), f'**{other}')\n",
    "\n",
    "        def _backward():\n",
    "            self.grad += (other * self.data**(other-1)) * out.grad\n",
    "        out._backward = _backward\n",
    "\n",
    "        return out\n",
    "\n",
    "    def relu(self):\n",
    "        out = Value(0 if self.data < 0 else self.data, (self,), 'ReLU')\n",
    "\n",
    "        def _backward():\n",
    "            self.grad += (out.data > 0) * out.grad\n",
    "        out._backward = _backward\n",
    "\n",
    "        return out\n",
    "\n",
    "    def backward(self):\n",
    "\n",
    "        # topological order all of the children in the graph\n",
    "        topo = []\n",
    "        visited = set()\n",
    "        def build_topo(v):\n",
    "            if v not in visited:\n",
    "                visited.add(v)\n",
    "                for child in v._prev:\n",
    "                    build_topo(child)\n",
    "                topo.append(v)\n",
    "        build_topo(self)\n",
    "\n",
    "        # go one variable at a time and apply the chain rule to get its gradient\n",
    "        self.grad = 1\n",
    "        for v in reversed(topo):\n",
    "            v._backward()\n",
    "\n",
    "    def __neg__(self): # -self\n",
    "        return self * -1\n",
    "\n",
    "    def __radd__(self, other): # other + self\n",
    "        return self + other\n",
    "\n",
    "    def __sub__(self, other): # self - other\n",
    "        return self + (-other)\n",
    "\n",
    "    def __rsub__(self, other): # other - self\n",
    "        return other + (-self)\n",
    "\n",
    "    def __rmul__(self, other): # other * self\n",
    "        return self * other\n",
    "\n",
    "    def __truediv__(self, other): # self / other\n",
    "        return self * other**-1\n",
    "\n",
    "    def __rtruediv__(self, other): # other / self\n",
    "        return other * self**-1\n",
    "\n",
    "    def __repr__(self):\n",
    "        return f\"Value(data={self.data}, grad={self.grad})\""
   ]
  },
  {
   "cell_type": "code",
   "execution_count": 132,
   "id": "b1a9ce2e-7865-4025-97b2-fcd4ba02d939",
   "metadata": {},
   "outputs": [
    {
     "data": {
      "text/plain": [
       "Value(data=5.0, grad=0)"
      ]
     },
     "execution_count": 132,
     "metadata": {},
     "output_type": "execute_result"
    }
   ],
   "source": [
    "a=Value(10)\n",
    "b=Value(2)\n",
    "a/b"
   ]
  },
  {
   "cell_type": "code",
   "execution_count": 130,
   "id": "c8258aeb-25fb-4ca7-b2e0-e1ef5a2389d6",
   "metadata": {},
   "outputs": [
    {
     "name": "stdout",
     "output_type": "stream",
     "text": [
      "c= 5.0 _op =+, Label=c,  Children ={Value(data=2.0), Value(data=3.0)}\n"
     ]
    }
   ],
   "source": [
    "# Addition\n",
    "a=Value(2.0,'a')\n",
    "b=Value(3.0,'b')\n",
    "c=a+b;c.label='c'\n",
    "print(f'c= {c.data} _op ={c._op}, Label={c.label},  Children ={c._prev}')"
   ]
  },
  {
   "cell_type": "code",
   "execution_count": 12,
   "id": "8274c76f-927a-464e-8c0c-e207aa79fe78",
   "metadata": {},
   "outputs": [
    {
     "name": "stdout",
     "output_type": "stream",
     "text": [
      " c.data = 6.0 Label=c ,  operation=*, children={Value(data=3.0), Value(data=2.0)}\n"
     ]
    }
   ],
   "source": [
    "# Multiplicaion\n",
    "a=Value(2.0,'a')\n",
    "b=Value(3.0,'b')\n",
    "c=a*b; c.label='c';\n",
    "print(f' c.data = {c.data} Label={c.label} ,  operation={c._op}, children={c._prev}')"
   ]
  },
  {
   "cell_type": "code",
   "execution_count": 13,
   "id": "a76d609f-5892-437f-b7fd-78fe4f531d12",
   "metadata": {},
   "outputs": [],
   "source": [
    "a= Value(2.0,label='a')\n",
    "b=Value(-3.0,label='b')\n",
    "c=Value(10.0,label='c')\n",
    "e=a*b; e.label='e';\n",
    "d=e+c; d.label='d';\n",
    "f=Value(-2.0,label='f')\n",
    "L=d*f;L.label='L'\n"
   ]
  },
  {
   "cell_type": "code",
   "execution_count": 14,
   "id": "00ae8dcd-a882-410d-a601-97a660e681af",
   "metadata": {},
   "outputs": [],
   "source": [
    "# Visulaize the graph\n"
   ]
  },
  {
   "cell_type": "code",
   "execution_count": 15,
   "id": "63981272-2959-47da-a1cc-a057c11f9f6e",
   "metadata": {},
   "outputs": [],
   "source": [
    "from graphviz import Digraph\n",
    "# from IPython.display import display\n",
    "# import python-graphviz\n",
    "\n",
    "def trace(root):\n",
    "    # build a set of all nodes and edges in a graph\n",
    "    nodes,edges=set(),set()\n",
    "    def build(v):\n",
    "        if v not in nodes:\n",
    "            nodes.add(v)\n",
    "            for child in v._prev:\n",
    "                edges.add((child,v))\n",
    "                build(child)\n",
    "    build(root)\n",
    "    return nodes,edges\n",
    "\n",
    "def draw_dot(root):\n",
    "    dot= Digraph(format='svg',graph_attr={'rankdir':'LR'}) #LR -> left to Right\n",
    "    nodes,edges= trace(root)\n",
    "\n",
    "    for n in nodes:\n",
    "        uid = str(id(n))\n",
    "        # (for any value in the graph, create a rectangular ('record') node for it\n",
    "        dot.node(name=uid, label= \"{ %s | data %.4f | grad %.4f }\" % (n.label,n.data,n.grad), shape='record')\n",
    "        if n._op:\n",
    "            # if this value is a result of some operation, create a op node for it\n",
    "            dot.node(name= uid+n._op, label=n._op)\n",
    "            # And connect the node to the edge\n",
    "            dot.edge(uid+n._op,uid)\n",
    "\n",
    "    for n1,n2 in edges:\n",
    "        # connect the n1 to op node of n2\n",
    "        dot.edge(str(id(n1)), str(id(n2))+n2._op)\n",
    "\n",
    "    return dot\n",
    "            "
   ]
  },
  {
   "cell_type": "code",
   "execution_count": 16,
   "id": "fed5d16f-68c2-454e-b7f6-229c88815c72",
   "metadata": {
    "scrolled": true
   },
   "outputs": [
    {
     "data": {
      "image/svg+xml": [
       "<?xml version=\"1.0\" encoding=\"UTF-8\" standalone=\"no\"?>\n",
       "<!DOCTYPE svg PUBLIC \"-//W3C//DTD SVG 1.1//EN\"\n",
       " \"http://www.w3.org/Graphics/SVG/1.1/DTD/svg11.dtd\">\n",
       "<!-- Generated by graphviz version 2.50.0 (0)\n",
       " -->\n",
       "<!-- Pages: 1 -->\n",
       "<svg width=\"1148pt\" height=\"156pt\"\n",
       " viewBox=\"0.00 0.00 1148.00 156.00\" xmlns=\"http://www.w3.org/2000/svg\" xmlns:xlink=\"http://www.w3.org/1999/xlink\">\n",
       "<g id=\"graph0\" class=\"graph\" transform=\"scale(1 1) rotate(0) translate(4 152)\">\n",
       "<polygon fill=\"white\" stroke=\"transparent\" points=\"-4,4 -4,-152 1144,-152 1144,4 -4,4\"/>\n",
       "<!-- 4538839120 -->\n",
       "<g id=\"node1\" class=\"node\">\n",
       "<title>4538839120</title>\n",
       "<polygon fill=\"none\" stroke=\"black\" points=\"2.5,-111.5 2.5,-147.5 187.5,-147.5 187.5,-111.5 2.5,-111.5\"/>\n",
       "<text text-anchor=\"middle\" x=\"14\" y=\"-125.8\" font-family=\"Times,serif\" font-size=\"14.00\">a</text>\n",
       "<polyline fill=\"none\" stroke=\"black\" points=\"25.5,-111.5 25.5,-147.5 \"/>\n",
       "<text text-anchor=\"middle\" x=\"65.5\" y=\"-125.8\" font-family=\"Times,serif\" font-size=\"14.00\">data 2.0000</text>\n",
       "<polyline fill=\"none\" stroke=\"black\" points=\"105.5,-111.5 105.5,-147.5 \"/>\n",
       "<text text-anchor=\"middle\" x=\"146.5\" y=\"-125.8\" font-family=\"Times,serif\" font-size=\"14.00\">grad 0.0000</text>\n",
       "</g>\n",
       "<!-- 4538917680* -->\n",
       "<g id=\"node8\" class=\"node\">\n",
       "<title>4538917680*</title>\n",
       "<ellipse fill=\"none\" stroke=\"black\" cx=\"253\" cy=\"-101.5\" rx=\"27\" ry=\"18\"/>\n",
       "<text text-anchor=\"middle\" x=\"253\" y=\"-97.8\" font-family=\"Times,serif\" font-size=\"14.00\">*</text>\n",
       "</g>\n",
       "<!-- 4538839120&#45;&gt;4538917680* -->\n",
       "<g id=\"edge7\" class=\"edge\">\n",
       "<title>4538839120&#45;&gt;4538917680*</title>\n",
       "<path fill=\"none\" stroke=\"black\" d=\"M187.65,-113.05C197.94,-111.2 207.91,-109.41 216.81,-107.82\"/>\n",
       "<polygon fill=\"black\" stroke=\"black\" points=\"217.48,-111.25 226.71,-106.04 216.25,-104.36 217.48,-111.25\"/>\n",
       "</g>\n",
       "<!-- 4538917056 -->\n",
       "<g id=\"node2\" class=\"node\">\n",
       "<title>4538917056</title>\n",
       "<polygon fill=\"none\" stroke=\"black\" points=\"316,-28.5 316,-64.5 508,-64.5 508,-28.5 316,-28.5\"/>\n",
       "<text text-anchor=\"middle\" x=\"327.5\" y=\"-42.8\" font-family=\"Times,serif\" font-size=\"14.00\">c</text>\n",
       "<polyline fill=\"none\" stroke=\"black\" points=\"339,-28.5 339,-64.5 \"/>\n",
       "<text text-anchor=\"middle\" x=\"382.5\" y=\"-42.8\" font-family=\"Times,serif\" font-size=\"14.00\">data 10.0000</text>\n",
       "<polyline fill=\"none\" stroke=\"black\" points=\"426,-28.5 426,-64.5 \"/>\n",
       "<text text-anchor=\"middle\" x=\"467\" y=\"-42.8\" font-family=\"Times,serif\" font-size=\"14.00\">grad 0.0000</text>\n",
       "</g>\n",
       "<!-- 4538915712+ -->\n",
       "<g id=\"node10\" class=\"node\">\n",
       "<title>4538915712+</title>\n",
       "<ellipse fill=\"none\" stroke=\"black\" cx=\"571\" cy=\"-73.5\" rx=\"27\" ry=\"18\"/>\n",
       "<text text-anchor=\"middle\" x=\"571\" y=\"-69.8\" font-family=\"Times,serif\" font-size=\"14.00\">+</text>\n",
       "</g>\n",
       "<!-- 4538917056&#45;&gt;4538915712+ -->\n",
       "<g id=\"edge5\" class=\"edge\">\n",
       "<title>4538917056&#45;&gt;4538915712+</title>\n",
       "<path fill=\"none\" stroke=\"black\" d=\"M508.4,-62.91C517.69,-64.5 526.64,-66.04 534.71,-67.43\"/>\n",
       "<polygon fill=\"black\" stroke=\"black\" points=\"534.32,-70.91 544.76,-69.16 535.5,-64.02 534.32,-70.91\"/>\n",
       "</g>\n",
       "<!-- 4538921184 -->\n",
       "<g id=\"node3\" class=\"node\">\n",
       "<title>4538921184</title>\n",
       "<polygon fill=\"none\" stroke=\"black\" points=\"634,-0.5 634,-36.5 822,-36.5 822,-0.5 634,-0.5\"/>\n",
       "<text text-anchor=\"middle\" x=\"644.5\" y=\"-14.8\" font-family=\"Times,serif\" font-size=\"14.00\">f</text>\n",
       "<polyline fill=\"none\" stroke=\"black\" points=\"655,-0.5 655,-36.5 \"/>\n",
       "<text text-anchor=\"middle\" x=\"697.5\" y=\"-14.8\" font-family=\"Times,serif\" font-size=\"14.00\">data &#45;2.0000</text>\n",
       "<polyline fill=\"none\" stroke=\"black\" points=\"740,-0.5 740,-36.5 \"/>\n",
       "<text text-anchor=\"middle\" x=\"781\" y=\"-14.8\" font-family=\"Times,serif\" font-size=\"14.00\">grad 0.0000</text>\n",
       "</g>\n",
       "<!-- 4538924784* -->\n",
       "<g id=\"node5\" class=\"node\">\n",
       "<title>4538924784*</title>\n",
       "<ellipse fill=\"none\" stroke=\"black\" cx=\"885\" cy=\"-45.5\" rx=\"27\" ry=\"18\"/>\n",
       "<text text-anchor=\"middle\" x=\"885\" y=\"-41.8\" font-family=\"Times,serif\" font-size=\"14.00\">*</text>\n",
       "</g>\n",
       "<!-- 4538921184&#45;&gt;4538924784* -->\n",
       "<g id=\"edge6\" class=\"edge\">\n",
       "<title>4538921184&#45;&gt;4538924784*</title>\n",
       "<path fill=\"none\" stroke=\"black\" d=\"M822.29,-34.75C831.57,-36.37 840.52,-37.93 848.61,-39.33\"/>\n",
       "<polygon fill=\"black\" stroke=\"black\" points=\"848.22,-42.82 858.68,-41.09 849.42,-35.92 848.22,-42.82\"/>\n",
       "</g>\n",
       "<!-- 4538924784 -->\n",
       "<g id=\"node4\" class=\"node\">\n",
       "<title>4538924784</title>\n",
       "<polygon fill=\"none\" stroke=\"black\" points=\"948,-27.5 948,-63.5 1140,-63.5 1140,-27.5 948,-27.5\"/>\n",
       "<text text-anchor=\"middle\" x=\"960.5\" y=\"-41.8\" font-family=\"Times,serif\" font-size=\"14.00\">L</text>\n",
       "<polyline fill=\"none\" stroke=\"black\" points=\"973,-27.5 973,-63.5 \"/>\n",
       "<text text-anchor=\"middle\" x=\"1015.5\" y=\"-41.8\" font-family=\"Times,serif\" font-size=\"14.00\">data &#45;8.0000</text>\n",
       "<polyline fill=\"none\" stroke=\"black\" points=\"1058,-27.5 1058,-63.5 \"/>\n",
       "<text text-anchor=\"middle\" x=\"1099\" y=\"-41.8\" font-family=\"Times,serif\" font-size=\"14.00\">grad 0.0000</text>\n",
       "</g>\n",
       "<!-- 4538924784*&#45;&gt;4538924784 -->\n",
       "<g id=\"edge1\" class=\"edge\">\n",
       "<title>4538924784*&#45;&gt;4538924784</title>\n",
       "<path fill=\"none\" stroke=\"black\" d=\"M912.28,-45.5C919.78,-45.5 928.44,-45.5 937.67,-45.5\"/>\n",
       "<polygon fill=\"black\" stroke=\"black\" points=\"937.87,-49 947.87,-45.5 937.87,-42 937.87,-49\"/>\n",
       "</g>\n",
       "<!-- 4537563424 -->\n",
       "<g id=\"node6\" class=\"node\">\n",
       "<title>4537563424</title>\n",
       "<polygon fill=\"none\" stroke=\"black\" points=\"0,-56.5 0,-92.5 190,-92.5 190,-56.5 0,-56.5\"/>\n",
       "<text text-anchor=\"middle\" x=\"11.5\" y=\"-70.8\" font-family=\"Times,serif\" font-size=\"14.00\">b</text>\n",
       "<polyline fill=\"none\" stroke=\"black\" points=\"23,-56.5 23,-92.5 \"/>\n",
       "<text text-anchor=\"middle\" x=\"65.5\" y=\"-70.8\" font-family=\"Times,serif\" font-size=\"14.00\">data &#45;3.0000</text>\n",
       "<polyline fill=\"none\" stroke=\"black\" points=\"108,-56.5 108,-92.5 \"/>\n",
       "<text text-anchor=\"middle\" x=\"149\" y=\"-70.8\" font-family=\"Times,serif\" font-size=\"14.00\">grad 0.0000</text>\n",
       "</g>\n",
       "<!-- 4537563424&#45;&gt;4538917680* -->\n",
       "<g id=\"edge4\" class=\"edge\">\n",
       "<title>4537563424&#45;&gt;4538917680*</title>\n",
       "<path fill=\"none\" stroke=\"black\" d=\"M190.34,-90.83C199.62,-92.44 208.58,-93.99 216.66,-95.38\"/>\n",
       "<polygon fill=\"black\" stroke=\"black\" points=\"216.27,-98.87 226.72,-97.12 217.46,-91.97 216.27,-98.87\"/>\n",
       "</g>\n",
       "<!-- 4538917680 -->\n",
       "<g id=\"node7\" class=\"node\">\n",
       "<title>4538917680</title>\n",
       "<polygon fill=\"none\" stroke=\"black\" points=\"317,-83.5 317,-119.5 507,-119.5 507,-83.5 317,-83.5\"/>\n",
       "<text text-anchor=\"middle\" x=\"328.5\" y=\"-97.8\" font-family=\"Times,serif\" font-size=\"14.00\">e</text>\n",
       "<polyline fill=\"none\" stroke=\"black\" points=\"340,-83.5 340,-119.5 \"/>\n",
       "<text text-anchor=\"middle\" x=\"382.5\" y=\"-97.8\" font-family=\"Times,serif\" font-size=\"14.00\">data &#45;6.0000</text>\n",
       "<polyline fill=\"none\" stroke=\"black\" points=\"425,-83.5 425,-119.5 \"/>\n",
       "<text text-anchor=\"middle\" x=\"466\" y=\"-97.8\" font-family=\"Times,serif\" font-size=\"14.00\">grad 0.0000</text>\n",
       "</g>\n",
       "<!-- 4538917680&#45;&gt;4538915712+ -->\n",
       "<g id=\"edge9\" class=\"edge\">\n",
       "<title>4538917680&#45;&gt;4538915712+</title>\n",
       "<path fill=\"none\" stroke=\"black\" d=\"M507.05,-84.73C516.89,-82.97 526.39,-81.28 534.9,-79.76\"/>\n",
       "<polygon fill=\"black\" stroke=\"black\" points=\"535.52,-83.2 544.75,-78 534.29,-76.31 535.52,-83.2\"/>\n",
       "</g>\n",
       "<!-- 4538917680*&#45;&gt;4538917680 -->\n",
       "<g id=\"edge2\" class=\"edge\">\n",
       "<title>4538917680*&#45;&gt;4538917680</title>\n",
       "<path fill=\"none\" stroke=\"black\" d=\"M280.28,-101.5C288.05,-101.5 297.08,-101.5 306.68,-101.5\"/>\n",
       "<polygon fill=\"black\" stroke=\"black\" points=\"306.88,-105 316.88,-101.5 306.88,-98 306.88,-105\"/>\n",
       "</g>\n",
       "<!-- 4538915712 -->\n",
       "<g id=\"node9\" class=\"node\">\n",
       "<title>4538915712</title>\n",
       "<polygon fill=\"none\" stroke=\"black\" points=\"635.5,-55.5 635.5,-91.5 820.5,-91.5 820.5,-55.5 635.5,-55.5\"/>\n",
       "<text text-anchor=\"middle\" x=\"647\" y=\"-69.8\" font-family=\"Times,serif\" font-size=\"14.00\">d</text>\n",
       "<polyline fill=\"none\" stroke=\"black\" points=\"658.5,-55.5 658.5,-91.5 \"/>\n",
       "<text text-anchor=\"middle\" x=\"698.5\" y=\"-69.8\" font-family=\"Times,serif\" font-size=\"14.00\">data 4.0000</text>\n",
       "<polyline fill=\"none\" stroke=\"black\" points=\"738.5,-55.5 738.5,-91.5 \"/>\n",
       "<text text-anchor=\"middle\" x=\"779.5\" y=\"-69.8\" font-family=\"Times,serif\" font-size=\"14.00\">grad 0.0000</text>\n",
       "</g>\n",
       "<!-- 4538915712&#45;&gt;4538924784* -->\n",
       "<g id=\"edge8\" class=\"edge\">\n",
       "<title>4538915712&#45;&gt;4538924784*</title>\n",
       "<path fill=\"none\" stroke=\"black\" d=\"M820.51,-56.97C830.48,-55.17 840.13,-53.42 848.77,-51.86\"/>\n",
       "<polygon fill=\"black\" stroke=\"black\" points=\"849.55,-55.28 858.77,-50.06 848.3,-48.39 849.55,-55.28\"/>\n",
       "</g>\n",
       "<!-- 4538915712+&#45;&gt;4538915712 -->\n",
       "<g id=\"edge3\" class=\"edge\">\n",
       "<title>4538915712+&#45;&gt;4538915712</title>\n",
       "<path fill=\"none\" stroke=\"black\" d=\"M598.29,-73.5C606.26,-73.5 615.54,-73.5 625.39,-73.5\"/>\n",
       "<polygon fill=\"black\" stroke=\"black\" points=\"625.41,-77 635.41,-73.5 625.41,-70 625.41,-77\"/>\n",
       "</g>\n",
       "</g>\n",
       "</svg>\n"
      ],
      "text/plain": [
       "<graphviz.graphs.Digraph at 0x10e94d430>"
      ]
     },
     "execution_count": 16,
     "metadata": {},
     "output_type": "execute_result"
    }
   ],
   "source": [
    "draw_dot(L)"
   ]
  },
  {
   "cell_type": "code",
   "execution_count": 17,
   "id": "7d00b1fe-ed8b-4d05-95a6-6a45d0945eaa",
   "metadata": {},
   "outputs": [
    {
     "name": "stdout",
     "output_type": "stream",
     "text": [
      "-8.0\n"
     ]
    }
   ],
   "source": [
    "a.data+= 0.01 * a.grad\n",
    "b.data+= 0.01 * b.grad\n",
    "c.data+= 0.01 * c.grad\n",
    "f.data+= 0.01 * d.grad\n",
    "\n",
    "e = a * b\n",
    "d = e + c\n",
    "L = d * f\n",
    "\n",
    "print(L.data)"
   ]
  },
  {
   "cell_type": "code",
   "execution_count": 18,
   "id": "8f72d931-c1dc-44d3-8bd0-00bdb82c4e04",
   "metadata": {},
   "outputs": [],
   "source": [
    "L.grad=1.0\n",
    "d.grad=-2.0\n",
    "f.grad=4.0\n",
    "c.grad=-2.0\n",
    "e.grad=-2.0\n",
    "a.grad=6.0\n",
    "b.grad=-4.0"
   ]
  },
  {
   "cell_type": "code",
   "execution_count": 19,
   "id": "0e0c7e7b-1749-4986-81dc-d17df7a1f343",
   "metadata": {},
   "outputs": [
    {
     "name": "stdout",
     "output_type": "stream",
     "text": [
      "-3.9999999999995595\n"
     ]
    }
   ],
   "source": [
    "def lol():\n",
    "    h=0.001\n",
    "    a= Value(2.0,label='a')\n",
    "    b=Value(-3.0,label='b')\n",
    "    c=Value(10.0,label='c')\n",
    "    e=a*b; e.label='e';\n",
    "    d=e+c; d.label='d';\n",
    "    f=Value(-2.0,label='f')\n",
    "    L=d*f;L.label='L'\n",
    "    L1=L.data\n",
    "\n",
    "    a= Value(2.0,label='a')\n",
    "    b=Value(-3.0,label='b')\n",
    "    b.data+=h\n",
    "    c=Value(10.0,label='c')\n",
    "    e=a*b; e.label='e';\n",
    "    d=e+c; d.label='d';\n",
    "    f=Value(-2.0,label='f')\n",
    "    L=d*f;L.label='L'\n",
    "    L2=L.data\n",
    "\n",
    "    print((L2-L1)/h)\n",
    "\n",
    "lol()        "
   ]
  },
  {
   "cell_type": "code",
   "execution_count": 20,
   "id": "a1d3058f-46c5-4198-9295-432da463603a",
   "metadata": {},
   "outputs": [
    {
     "data": {
      "image/png": "[encoded data removed]",
      "text/plain": [
       "<Figure size 640x480 with 1 Axes>"
      ]
     },
     "metadata": {},
     "output_type": "display_data"
    }
   ],
   "source": [
    "plt.plot(np.arange(-5,5,0.2),np.tanh(np.arange(-5,5,0.2)))\n",
    "plt.show()"
   ]
  },
  {
   "cell_type": "code",
   "execution_count": 57,
   "id": "96d97465-205e-4c7a-a08f-56519fecd185",
   "metadata": {},
   "outputs": [],
   "source": [
    "# inputs \n",
    "X1= Value(2.0, label=\"x1\")\n",
    "X2= Value(0.0, label=\"X2\")\n",
    "\n",
    "# Weights W1,W2\n",
    "W1=Value(-3.0,label=\"W1\")\n",
    "W2=Value(1.0,label=\"W2\")\n",
    "\n",
    "# Bias \n",
    "b=Value(6.8813735870195432,label=\"b\")\n",
    "\n",
    "# X1W1 + X2W2 +b\n",
    "X1W1=X1*W1; X1W1.label=\"X1*W1\"\n",
    "X2W2=X2*W2; X2W2.label=\"X2*W2\"\n",
    "\n",
    "X1W1X2W2 = X1W1 + X2W2; X1W1X2W2.label=\"X1W1+X2W2\"\n",
    "n=X1W1X2W2+b; n.label=\"n\"\n",
    "o=n.tanh();  o.label=\"o\"\n",
    "\n",
    "# draw_dot(o)\n"
   ]
  },
  {
   "cell_type": "code",
   "execution_count": 60,
   "id": "8f9535e9-02fe-4b8d-b5bb-505afcc5b0a4",
   "metadata": {},
   "outputs": [
    {
     "data": {
      "image/svg+xml": [
       "<?xml version=\"1.0\" encoding=\"UTF-8\" standalone=\"no\"?>\n",
       "<!DOCTYPE svg PUBLIC \"-//W3C//DTD SVG 1.1//EN\"\n",
       " \"http://www.w3.org/Graphics/SVG/1.1/DTD/svg11.dtd\">\n",
       "<!-- Generated by graphviz version 2.50.0 (0)\n",
       " -->\n",
       "<!-- Pages: 1 -->\n",
       "<svg width=\"1578pt\" height=\"210pt\"\n",
       " viewBox=\"0.00 0.00 1578.00 210.00\" xmlns=\"http://www.w3.org/2000/svg\" xmlns:xlink=\"http://www.w3.org/1999/xlink\">\n",
       "<g id=\"graph0\" class=\"graph\" transform=\"scale(1 1) rotate(0) translate(4 206)\">\n",
       "<polygon fill=\"white\" stroke=\"transparent\" points=\"-4,4 -4,-206 1574,-206 1574,4 -4,4\"/>\n",
       "<!-- 4539867664 -->\n",
       "<g id=\"node1\" class=\"node\">\n",
       "<title>4539867664</title>\n",
       "<polygon fill=\"none\" stroke=\"black\" points=\"4.5,-165.5 4.5,-201.5 199.5,-201.5 199.5,-165.5 4.5,-165.5\"/>\n",
       "<text text-anchor=\"middle\" x=\"21\" y=\"-179.8\" font-family=\"Times,serif\" font-size=\"14.00\">X2</text>\n",
       "<polyline fill=\"none\" stroke=\"black\" points=\"37.5,-165.5 37.5,-201.5 \"/>\n",
       "<text text-anchor=\"middle\" x=\"77.5\" y=\"-179.8\" font-family=\"Times,serif\" font-size=\"14.00\">data 0.0000</text>\n",
       "<polyline fill=\"none\" stroke=\"black\" points=\"117.5,-165.5 117.5,-201.5 \"/>\n",
       "<text text-anchor=\"middle\" x=\"158.5\" y=\"-179.8\" font-family=\"Times,serif\" font-size=\"14.00\">grad 0.5000</text>\n",
       "</g>\n",
       "<!-- 4539862288* -->\n",
       "<g id=\"node8\" class=\"node\">\n",
       "<title>4539862288*</title>\n",
       "<ellipse fill=\"none\" stroke=\"black\" cx=\"267\" cy=\"-128.5\" rx=\"27\" ry=\"18\"/>\n",
       "<text text-anchor=\"middle\" x=\"267\" y=\"-124.8\" font-family=\"Times,serif\" font-size=\"14.00\">*</text>\n",
       "</g>\n",
       "<!-- 4539867664&#45;&gt;4539862288* -->\n",
       "<g id=\"edge6\" class=\"edge\">\n",
       "<title>4539867664&#45;&gt;4539862288*</title>\n",
       "<path fill=\"none\" stroke=\"black\" d=\"M176.26,-165.43C185.67,-162.67 195.11,-159.67 204,-156.5 214.54,-152.74 225.77,-147.93 235.73,-143.36\"/>\n",
       "<polygon fill=\"black\" stroke=\"black\" points=\"237.26,-146.51 244.83,-139.09 234.29,-140.17 237.26,-146.51\"/>\n",
       "</g>\n",
       "<!-- 4539863632 -->\n",
       "<g id=\"node2\" class=\"node\">\n",
       "<title>4539863632</title>\n",
       "<polygon fill=\"none\" stroke=\"black\" points=\"2.5,-110.5 2.5,-146.5 201.5,-146.5 201.5,-110.5 2.5,-110.5\"/>\n",
       "<text text-anchor=\"middle\" x=\"21\" y=\"-124.8\" font-family=\"Times,serif\" font-size=\"14.00\">W2</text>\n",
       "<polyline fill=\"none\" stroke=\"black\" points=\"39.5,-110.5 39.5,-146.5 \"/>\n",
       "<text text-anchor=\"middle\" x=\"79.5\" y=\"-124.8\" font-family=\"Times,serif\" font-size=\"14.00\">data 1.0000</text>\n",
       "<polyline fill=\"none\" stroke=\"black\" points=\"119.5,-110.5 119.5,-146.5 \"/>\n",
       "<text text-anchor=\"middle\" x=\"160.5\" y=\"-124.8\" font-family=\"Times,serif\" font-size=\"14.00\">grad 0.0000</text>\n",
       "</g>\n",
       "<!-- 4539863632&#45;&gt;4539862288* -->\n",
       "<g id=\"edge11\" class=\"edge\">\n",
       "<title>4539863632&#45;&gt;4539862288*</title>\n",
       "<path fill=\"none\" stroke=\"black\" d=\"M201.58,-128.5C211.59,-128.5 221.24,-128.5 229.89,-128.5\"/>\n",
       "<polygon fill=\"black\" stroke=\"black\" points=\"229.9,-132 239.9,-128.5 229.9,-125 229.9,-132\"/>\n",
       "</g>\n",
       "<!-- 4539864688 -->\n",
       "<g id=\"node3\" class=\"node\">\n",
       "<title>4539864688</title>\n",
       "<polygon fill=\"none\" stroke=\"black\" points=\"330,-55.5 330,-91.5 557,-91.5 557,-55.5 330,-55.5\"/>\n",
       "<text text-anchor=\"middle\" x=\"360\" y=\"-69.8\" font-family=\"Times,serif\" font-size=\"14.00\">X1*W1</text>\n",
       "<polyline fill=\"none\" stroke=\"black\" points=\"390,-55.5 390,-91.5 \"/>\n",
       "<text text-anchor=\"middle\" x=\"432.5\" y=\"-69.8\" font-family=\"Times,serif\" font-size=\"14.00\">data &#45;6.0000</text>\n",
       "<polyline fill=\"none\" stroke=\"black\" points=\"475,-55.5 475,-91.5 \"/>\n",
       "<text text-anchor=\"middle\" x=\"516\" y=\"-69.8\" font-family=\"Times,serif\" font-size=\"14.00\">grad 0.5000</text>\n",
       "</g>\n",
       "<!-- 4539862480+ -->\n",
       "<g id=\"node15\" class=\"node\">\n",
       "<title>4539862480+</title>\n",
       "<ellipse fill=\"none\" stroke=\"black\" cx=\"620\" cy=\"-100.5\" rx=\"27\" ry=\"18\"/>\n",
       "<text text-anchor=\"middle\" x=\"620\" y=\"-96.8\" font-family=\"Times,serif\" font-size=\"14.00\">+</text>\n",
       "</g>\n",
       "<!-- 4539864688&#45;&gt;4539862480+ -->\n",
       "<g id=\"edge10\" class=\"edge\">\n",
       "<title>4539864688&#45;&gt;4539862480+</title>\n",
       "<path fill=\"none\" stroke=\"black\" d=\"M557.48,-90.98C566.77,-92.42 575.64,-93.79 583.6,-95.02\"/>\n",
       "<polygon fill=\"black\" stroke=\"black\" points=\"583.09,-98.49 593.51,-96.56 584.16,-91.57 583.09,-98.49\"/>\n",
       "</g>\n",
       "<!-- 4539864688* -->\n",
       "<g id=\"node4\" class=\"node\">\n",
       "<title>4539864688*</title>\n",
       "<ellipse fill=\"none\" stroke=\"black\" cx=\"267\" cy=\"-73.5\" rx=\"27\" ry=\"18\"/>\n",
       "<text text-anchor=\"middle\" x=\"267\" y=\"-69.8\" font-family=\"Times,serif\" font-size=\"14.00\">*</text>\n",
       "</g>\n",
       "<!-- 4539864688*&#45;&gt;4539864688 -->\n",
       "<g id=\"edge1\" class=\"edge\">\n",
       "<title>4539864688*&#45;&gt;4539864688</title>\n",
       "<path fill=\"none\" stroke=\"black\" d=\"M294.12,-73.5C301.67,-73.5 310.45,-73.5 319.9,-73.5\"/>\n",
       "<polygon fill=\"black\" stroke=\"black\" points=\"319.95,-77 329.95,-73.5 319.95,-70 319.95,-77\"/>\n",
       "</g>\n",
       "<!-- 4539872512 -->\n",
       "<g id=\"node5\" class=\"node\">\n",
       "<title>4539872512</title>\n",
       "<polygon fill=\"none\" stroke=\"black\" points=\"1074,-54.5 1074,-90.5 1259,-90.5 1259,-54.5 1074,-54.5\"/>\n",
       "<text text-anchor=\"middle\" x=\"1085.5\" y=\"-68.8\" font-family=\"Times,serif\" font-size=\"14.00\">n</text>\n",
       "<polyline fill=\"none\" stroke=\"black\" points=\"1097,-54.5 1097,-90.5 \"/>\n",
       "<text text-anchor=\"middle\" x=\"1137\" y=\"-68.8\" font-family=\"Times,serif\" font-size=\"14.00\">data 0.8814</text>\n",
       "<polyline fill=\"none\" stroke=\"black\" points=\"1177,-54.5 1177,-90.5 \"/>\n",
       "<text text-anchor=\"middle\" x=\"1218\" y=\"-68.8\" font-family=\"Times,serif\" font-size=\"14.00\">grad 0.5000</text>\n",
       "</g>\n",
       "<!-- 4539862384tanh -->\n",
       "<g id=\"node12\" class=\"node\">\n",
       "<title>4539862384tanh</title>\n",
       "<ellipse fill=\"none\" stroke=\"black\" cx=\"1322\" cy=\"-72.5\" rx=\"27\" ry=\"18\"/>\n",
       "<text text-anchor=\"middle\" x=\"1322\" y=\"-68.8\" font-family=\"Times,serif\" font-size=\"14.00\">tanh</text>\n",
       "</g>\n",
       "<!-- 4539872512&#45;&gt;4539862384tanh -->\n",
       "<g id=\"edge12\" class=\"edge\">\n",
       "<title>4539872512&#45;&gt;4539862384tanh</title>\n",
       "<path fill=\"none\" stroke=\"black\" d=\"M1259.01,-72.5C1268.01,-72.5 1276.74,-72.5 1284.66,-72.5\"/>\n",
       "<polygon fill=\"black\" stroke=\"black\" points=\"1284.91,-76 1294.91,-72.5 1284.91,-69 1284.91,-76\"/>\n",
       "</g>\n",
       "<!-- 4539872512+ -->\n",
       "<g id=\"node6\" class=\"node\">\n",
       "<title>4539872512+</title>\n",
       "<ellipse fill=\"none\" stroke=\"black\" cx=\"1011\" cy=\"-72.5\" rx=\"27\" ry=\"18\"/>\n",
       "<text text-anchor=\"middle\" x=\"1011\" y=\"-68.8\" font-family=\"Times,serif\" font-size=\"14.00\">+</text>\n",
       "</g>\n",
       "<!-- 4539872512+&#45;&gt;4539872512 -->\n",
       "<g id=\"edge2\" class=\"edge\">\n",
       "<title>4539872512+&#45;&gt;4539872512</title>\n",
       "<path fill=\"none\" stroke=\"black\" d=\"M1038.04,-72.5C1045.58,-72.5 1054.3,-72.5 1063.57,-72.5\"/>\n",
       "<polygon fill=\"black\" stroke=\"black\" points=\"1063.81,-76 1073.81,-72.5 1063.81,-69 1063.81,-76\"/>\n",
       "</g>\n",
       "<!-- 4539862288 -->\n",
       "<g id=\"node7\" class=\"node\">\n",
       "<title>4539862288</title>\n",
       "<polygon fill=\"none\" stroke=\"black\" points=\"332.5,-110.5 332.5,-146.5 554.5,-146.5 554.5,-110.5 332.5,-110.5\"/>\n",
       "<text text-anchor=\"middle\" x=\"362.5\" y=\"-124.8\" font-family=\"Times,serif\" font-size=\"14.00\">X2*W2</text>\n",
       "<polyline fill=\"none\" stroke=\"black\" points=\"392.5,-110.5 392.5,-146.5 \"/>\n",
       "<text text-anchor=\"middle\" x=\"432.5\" y=\"-124.8\" font-family=\"Times,serif\" font-size=\"14.00\">data 0.0000</text>\n",
       "<polyline fill=\"none\" stroke=\"black\" points=\"472.5,-110.5 472.5,-146.5 \"/>\n",
       "<text text-anchor=\"middle\" x=\"513.5\" y=\"-124.8\" font-family=\"Times,serif\" font-size=\"14.00\">grad 0.5000</text>\n",
       "</g>\n",
       "<!-- 4539862288&#45;&gt;4539862480+ -->\n",
       "<g id=\"edge9\" class=\"edge\">\n",
       "<title>4539862288&#45;&gt;4539862480+</title>\n",
       "<path fill=\"none\" stroke=\"black\" d=\"M554.52,-110.85C564.78,-109.2 574.58,-107.63 583.31,-106.23\"/>\n",
       "<polygon fill=\"black\" stroke=\"black\" points=\"584.07,-109.65 593.39,-104.61 582.96,-102.74 584.07,-109.65\"/>\n",
       "</g>\n",
       "<!-- 4539862288*&#45;&gt;4539862288 -->\n",
       "<g id=\"edge3\" class=\"edge\">\n",
       "<title>4539862288*&#45;&gt;4539862288</title>\n",
       "<path fill=\"none\" stroke=\"black\" d=\"M294.12,-128.5C302.27,-128.5 311.83,-128.5 322.13,-128.5\"/>\n",
       "<polygon fill=\"black\" stroke=\"black\" points=\"322.19,-132 332.19,-128.5 322.19,-125 322.19,-132\"/>\n",
       "</g>\n",
       "<!-- 4539786512 -->\n",
       "<g id=\"node9\" class=\"node\">\n",
       "<title>4539786512</title>\n",
       "<polygon fill=\"none\" stroke=\"black\" points=\"0,-55.5 0,-91.5 204,-91.5 204,-55.5 0,-55.5\"/>\n",
       "<text text-anchor=\"middle\" x=\"18.5\" y=\"-69.8\" font-family=\"Times,serif\" font-size=\"14.00\">W1</text>\n",
       "<polyline fill=\"none\" stroke=\"black\" points=\"37,-55.5 37,-91.5 \"/>\n",
       "<text text-anchor=\"middle\" x=\"79.5\" y=\"-69.8\" font-family=\"Times,serif\" font-size=\"14.00\">data &#45;3.0000</text>\n",
       "<polyline fill=\"none\" stroke=\"black\" points=\"122,-55.5 122,-91.5 \"/>\n",
       "<text text-anchor=\"middle\" x=\"163\" y=\"-69.8\" font-family=\"Times,serif\" font-size=\"14.00\">grad 1.0000</text>\n",
       "</g>\n",
       "<!-- 4539786512&#45;&gt;4539864688* -->\n",
       "<g id=\"edge13\" class=\"edge\">\n",
       "<title>4539786512&#45;&gt;4539864688*</title>\n",
       "<path fill=\"none\" stroke=\"black\" d=\"M204.38,-73.5C213.37,-73.5 222.01,-73.5 229.84,-73.5\"/>\n",
       "<polygon fill=\"black\" stroke=\"black\" points=\"229.97,-77 239.97,-73.5 229.97,-70 229.97,-77\"/>\n",
       "</g>\n",
       "<!-- 4539871072 -->\n",
       "<g id=\"node10\" class=\"node\">\n",
       "<title>4539871072</title>\n",
       "<polygon fill=\"none\" stroke=\"black\" points=\"4,-0.5 4,-36.5 200,-36.5 200,-0.5 4,-0.5\"/>\n",
       "<text text-anchor=\"middle\" x=\"19\" y=\"-14.8\" font-family=\"Times,serif\" font-size=\"14.00\">x1</text>\n",
       "<polyline fill=\"none\" stroke=\"black\" points=\"34,-0.5 34,-36.5 \"/>\n",
       "<text text-anchor=\"middle\" x=\"74\" y=\"-14.8\" font-family=\"Times,serif\" font-size=\"14.00\">data 2.0000</text>\n",
       "<polyline fill=\"none\" stroke=\"black\" points=\"114,-0.5 114,-36.5 \"/>\n",
       "<text text-anchor=\"middle\" x=\"157\" y=\"-14.8\" font-family=\"Times,serif\" font-size=\"14.00\">grad &#45;1.5000</text>\n",
       "</g>\n",
       "<!-- 4539871072&#45;&gt;4539864688* -->\n",
       "<g id=\"edge7\" class=\"edge\">\n",
       "<title>4539871072&#45;&gt;4539864688*</title>\n",
       "<path fill=\"none\" stroke=\"black\" d=\"M172.94,-36.51C183.43,-39.61 194.05,-42.97 204,-46.5 214.29,-50.15 225.29,-54.71 235.12,-59.04\"/>\n",
       "<polygon fill=\"black\" stroke=\"black\" points=\"233.94,-62.34 244.49,-63.25 236.8,-55.96 233.94,-62.34\"/>\n",
       "</g>\n",
       "<!-- 4539862384 -->\n",
       "<g id=\"node11\" class=\"node\">\n",
       "<title>4539862384</title>\n",
       "<polygon fill=\"none\" stroke=\"black\" points=\"1385,-54.5 1385,-90.5 1570,-90.5 1570,-54.5 1385,-54.5\"/>\n",
       "<text text-anchor=\"middle\" x=\"1396.5\" y=\"-68.8\" font-family=\"Times,serif\" font-size=\"14.00\">o</text>\n",
       "<polyline fill=\"none\" stroke=\"black\" points=\"1408,-54.5 1408,-90.5 \"/>\n",
       "<text text-anchor=\"middle\" x=\"1448\" y=\"-68.8\" font-family=\"Times,serif\" font-size=\"14.00\">data 0.7071</text>\n",
       "<polyline fill=\"none\" stroke=\"black\" points=\"1488,-54.5 1488,-90.5 \"/>\n",
       "<text text-anchor=\"middle\" x=\"1529\" y=\"-68.8\" font-family=\"Times,serif\" font-size=\"14.00\">grad 0.0000</text>\n",
       "</g>\n",
       "<!-- 4539862384tanh&#45;&gt;4539862384 -->\n",
       "<g id=\"edge4\" class=\"edge\">\n",
       "<title>4539862384tanh&#45;&gt;4539862384</title>\n",
       "<path fill=\"none\" stroke=\"black\" d=\"M1349.04,-72.5C1356.58,-72.5 1365.3,-72.5 1374.57,-72.5\"/>\n",
       "<polygon fill=\"black\" stroke=\"black\" points=\"1374.81,-76 1384.81,-72.5 1374.81,-69 1374.81,-76\"/>\n",
       "</g>\n",
       "<!-- 4539873184 -->\n",
       "<g id=\"node13\" class=\"node\">\n",
       "<title>4539873184</title>\n",
       "<polygon fill=\"none\" stroke=\"black\" points=\"723,-27.5 723,-63.5 908,-63.5 908,-27.5 723,-27.5\"/>\n",
       "<text text-anchor=\"middle\" x=\"734.5\" y=\"-41.8\" font-family=\"Times,serif\" font-size=\"14.00\">b</text>\n",
       "<polyline fill=\"none\" stroke=\"black\" points=\"746,-27.5 746,-63.5 \"/>\n",
       "<text text-anchor=\"middle\" x=\"786\" y=\"-41.8\" font-family=\"Times,serif\" font-size=\"14.00\">data 6.8814</text>\n",
       "<polyline fill=\"none\" stroke=\"black\" points=\"826,-27.5 826,-63.5 \"/>\n",
       "<text text-anchor=\"middle\" x=\"867\" y=\"-41.8\" font-family=\"Times,serif\" font-size=\"14.00\">grad 0.5000</text>\n",
       "</g>\n",
       "<!-- 4539873184&#45;&gt;4539872512+ -->\n",
       "<g id=\"edge14\" class=\"edge\">\n",
       "<title>4539873184&#45;&gt;4539872512+</title>\n",
       "<path fill=\"none\" stroke=\"black\" d=\"M908.15,-58.29C931.61,-61.56 955.48,-64.89 974.2,-67.5\"/>\n",
       "<polygon fill=\"black\" stroke=\"black\" points=\"973.93,-71 984.32,-68.92 974.9,-64.07 973.93,-71\"/>\n",
       "</g>\n",
       "<!-- 4539862480 -->\n",
       "<g id=\"node14\" class=\"node\">\n",
       "<title>4539862480</title>\n",
       "<polygon fill=\"none\" stroke=\"black\" points=\"683,-82.5 683,-118.5 948,-118.5 948,-82.5 683,-82.5\"/>\n",
       "<text text-anchor=\"middle\" x=\"732\" y=\"-96.8\" font-family=\"Times,serif\" font-size=\"14.00\">X1W1+X2W2</text>\n",
       "<polyline fill=\"none\" stroke=\"black\" points=\"781,-82.5 781,-118.5 \"/>\n",
       "<text text-anchor=\"middle\" x=\"823.5\" y=\"-96.8\" font-family=\"Times,serif\" font-size=\"14.00\">data &#45;6.0000</text>\n",
       "<polyline fill=\"none\" stroke=\"black\" points=\"866,-82.5 866,-118.5 \"/>\n",
       "<text text-anchor=\"middle\" x=\"907\" y=\"-96.8\" font-family=\"Times,serif\" font-size=\"14.00\">grad 0.5000</text>\n",
       "</g>\n",
       "<!-- 4539862480&#45;&gt;4539872512+ -->\n",
       "<g id=\"edge8\" class=\"edge\">\n",
       "<title>4539862480&#45;&gt;4539872512+</title>\n",
       "<path fill=\"none\" stroke=\"black\" d=\"M940.96,-82.49C952.92,-80.76 964.27,-79.12 974.17,-77.68\"/>\n",
       "<polygon fill=\"black\" stroke=\"black\" points=\"974.92,-81.11 984.32,-76.22 973.92,-74.18 974.92,-81.11\"/>\n",
       "</g>\n",
       "<!-- 4539862480+&#45;&gt;4539862480 -->\n",
       "<g id=\"edge5\" class=\"edge\">\n",
       "<title>4539862480+&#45;&gt;4539862480</title>\n",
       "<path fill=\"none\" stroke=\"black\" d=\"M647.1,-100.5C654.6,-100.5 663.35,-100.5 672.84,-100.5\"/>\n",
       "<polygon fill=\"black\" stroke=\"black\" points=\"672.98,-104 682.98,-100.5 672.98,-97 672.98,-104\"/>\n",
       "</g>\n",
       "</g>\n",
       "</svg>\n"
      ],
      "text/plain": [
       "<graphviz.graphs.Digraph at 0x10e98e720>"
      ]
     },
     "execution_count": 60,
     "metadata": {},
     "output_type": "execute_result"
    }
   ],
   "source": [
    "draw_dot(o)"
   ]
  },
  {
   "cell_type": "code",
   "execution_count": 59,
   "id": "df05d9ab-b359-4477-af3e-cabcfcde2f2e",
   "metadata": {},
   "outputs": [],
   "source": [
    "o.backward()"
   ]
  },
  {
   "cell_type": "code",
   "execution_count": 38,
   "id": "58c6c5b3-62fc-455b-b364-d687afa4baf1",
   "metadata": {},
   "outputs": [],
   "source": [
    "X2._backward()\n",
    "W2._backward()"
   ]
  },
  {
   "cell_type": "code",
   "execution_count": 37,
   "id": "ad3f8396-58a0-4244-8847-fec8ceae95ea",
   "metadata": {},
   "outputs": [],
   "source": [
    "X1._backward()\n",
    "W1._backward()"
   ]
  },
  {
   "cell_type": "code",
   "execution_count": 36,
   "id": "35a92f46-0803-4dea-b60b-f001779333f6",
   "metadata": {},
   "outputs": [],
   "source": [
    "X1W1._backward()\n",
    "X2W2._backward()"
   ]
  },
  {
   "cell_type": "code",
   "execution_count": 35,
   "id": "36716628-00f6-45c7-bfa9-5e7082bef488",
   "metadata": {},
   "outputs": [],
   "source": [
    "b._backward()\n",
    "X1W1X2W2._backward()"
   ]
  },
  {
   "cell_type": "code",
   "execution_count": 34,
   "id": "9de8d222-ae98-40c2-9e00-2b3e570bbd60",
   "metadata": {},
   "outputs": [],
   "source": [
    "n._backward()"
   ]
  },
  {
   "cell_type": "code",
   "execution_count": 33,
   "id": "7d52e35d-e929-4384-a844-552df3e17bf8",
   "metadata": {},
   "outputs": [],
   "source": [
    "o.grad=1.0"
   ]
  },
  {
   "cell_type": "code",
   "execution_count": 29,
   "id": "8fb2caa6-368e-4d82-9790-5f5217e057ac",
   "metadata": {},
   "outputs": [],
   "source": [
    "X1.grad=-1.5\n",
    "W1.grad=1.0"
   ]
  },
  {
   "cell_type": "code",
   "execution_count": 119,
   "id": "20d67da7-7523-438e-af53-20d07c90ecc2",
   "metadata": {},
   "outputs": [],
   "source": [
    "X2.grad=0.5\n",
    "W2.grad=0.0"
   ]
  },
  {
   "cell_type": "code",
   "execution_count": 112,
   "id": "fbe222a9-07d1-48aa-b899-7c3e9ebbec49",
   "metadata": {},
   "outputs": [],
   "source": [
    "X1W1.grad=0.5\n",
    "X2W2.grad=0.5"
   ]
  },
  {
   "cell_type": "code",
   "execution_count": 109,
   "id": "a7af7ea6-724b-489a-83ba-7c5d998bef72",
   "metadata": {},
   "outputs": [],
   "source": [
    "b.grad=0.5\n",
    "X1W1X2W2.grad=0.5"
   ]
  },
  {
   "cell_type": "code",
   "execution_count": 107,
   "id": "a98a0e88-c28c-4543-a030-87ba5526ca29",
   "metadata": {},
   "outputs": [],
   "source": [
    "n.grad=0.5"
   ]
  },
  {
   "cell_type": "code",
   "execution_count": 104,
   "id": "23591cd5-bda7-45e1-b51e-3b6a6eae0319",
   "metadata": {},
   "outputs": [],
   "source": [
    "o.grad=1.0"
   ]
  },
  {
   "cell_type": "code",
   "execution_count": 105,
   "id": "c4f20644-46cc-4f16-bbcb-25e90da0b1b7",
   "metadata": {},
   "outputs": [
    {
     "data": {
      "text/plain": [
       "0.4999999999999999"
      ]
     },
     "execution_count": 105,
     "metadata": {},
     "output_type": "execute_result"
    }
   ],
   "source": [
    "1 - o.data**2"
   ]
  },
  {
   "cell_type": "code",
   "execution_count": 233,
   "id": "326709a6-b6cb-4807-88e2-6a713d917a0b",
   "metadata": {},
   "outputs": [
    {
     "data": {
      "image/svg+xml": [
       "<?xml version=\"1.0\" encoding=\"UTF-8\" standalone=\"no\"?>\n",
       "<!DOCTYPE svg PUBLIC \"-//W3C//DTD SVG 1.1//EN\"\n",
       " \"http://www.w3.org/Graphics/SVG/1.1/DTD/svg11.dtd\">\n",
       "<!-- Generated by graphviz version 2.50.0 (0)\n",
       " -->\n",
       "<!-- Pages: 1 -->\n",
       "<svg width=\"504pt\" height=\"45pt\"\n",
       " viewBox=\"0.00 0.00 504.00 45.00\" xmlns=\"http://www.w3.org/2000/svg\" xmlns:xlink=\"http://www.w3.org/1999/xlink\">\n",
       "<g id=\"graph0\" class=\"graph\" transform=\"scale(1 1) rotate(0) translate(4 41)\">\n",
       "<polygon fill=\"white\" stroke=\"transparent\" points=\"-4,4 -4,-41 500,-41 500,4 -4,4\"/>\n",
       "<!-- 4923473792 -->\n",
       "<g id=\"node1\" class=\"node\">\n",
       "<title>4923473792</title>\n",
       "<polygon fill=\"none\" stroke=\"black\" points=\"0,-0.5 0,-36.5 185,-36.5 185,-0.5 0,-0.5\"/>\n",
       "<text text-anchor=\"middle\" x=\"11.5\" y=\"-14.8\" font-family=\"Times,serif\" font-size=\"14.00\">a</text>\n",
       "<polyline fill=\"none\" stroke=\"black\" points=\"23,-0.5 23,-36.5 \"/>\n",
       "<text text-anchor=\"middle\" x=\"63\" y=\"-14.8\" font-family=\"Times,serif\" font-size=\"14.00\">data 3.0000</text>\n",
       "<polyline fill=\"none\" stroke=\"black\" points=\"103,-0.5 103,-36.5 \"/>\n",
       "<text text-anchor=\"middle\" x=\"144\" y=\"-14.8\" font-family=\"Times,serif\" font-size=\"14.00\">grad 2.0000</text>\n",
       "</g>\n",
       "<!-- 4923467792+ -->\n",
       "<g id=\"node3\" class=\"node\">\n",
       "<title>4923467792+</title>\n",
       "<ellipse fill=\"none\" stroke=\"black\" cx=\"248\" cy=\"-18.5\" rx=\"27\" ry=\"18\"/>\n",
       "<text text-anchor=\"middle\" x=\"248\" y=\"-14.8\" font-family=\"Times,serif\" font-size=\"14.00\">+</text>\n",
       "</g>\n",
       "<!-- 4923473792&#45;&gt;4923467792+ -->\n",
       "<g id=\"edge2\" class=\"edge\">\n",
       "<title>4923473792&#45;&gt;4923467792+</title>\n",
       "<path fill=\"none\" stroke=\"black\" d=\"M185.01,-18.5C194.01,-18.5 202.74,-18.5 210.66,-18.5\"/>\n",
       "<polygon fill=\"black\" stroke=\"black\" points=\"210.91,-22 220.91,-18.5 210.91,-15 210.91,-22\"/>\n",
       "</g>\n",
       "<!-- 4923467792 -->\n",
       "<g id=\"node2\" class=\"node\">\n",
       "<title>4923467792</title>\n",
       "<polygon fill=\"none\" stroke=\"black\" points=\"311,-0.5 311,-36.5 496,-36.5 496,-0.5 311,-0.5\"/>\n",
       "<text text-anchor=\"middle\" x=\"322.5\" y=\"-14.8\" font-family=\"Times,serif\" font-size=\"14.00\">b</text>\n",
       "<polyline fill=\"none\" stroke=\"black\" points=\"334,-0.5 334,-36.5 \"/>\n",
       "<text text-anchor=\"middle\" x=\"374\" y=\"-14.8\" font-family=\"Times,serif\" font-size=\"14.00\">data 6.0000</text>\n",
       "<polyline fill=\"none\" stroke=\"black\" points=\"414,-0.5 414,-36.5 \"/>\n",
       "<text text-anchor=\"middle\" x=\"455\" y=\"-14.8\" font-family=\"Times,serif\" font-size=\"14.00\">grad 1.0000</text>\n",
       "</g>\n",
       "<!-- 4923467792+&#45;&gt;4923467792 -->\n",
       "<g id=\"edge1\" class=\"edge\">\n",
       "<title>4923467792+&#45;&gt;4923467792</title>\n",
       "<path fill=\"none\" stroke=\"black\" d=\"M275.04,-18.5C282.58,-18.5 291.3,-18.5 300.57,-18.5\"/>\n",
       "<polygon fill=\"black\" stroke=\"black\" points=\"300.81,-22 310.81,-18.5 300.81,-15 300.81,-22\"/>\n",
       "</g>\n",
       "</g>\n",
       "</svg>\n"
      ],
      "text/plain": [
       "<graphviz.graphs.Digraph at 0x125760c50>"
      ]
     },
     "execution_count": 233,
     "metadata": {},
     "output_type": "execute_result"
    }
   ],
   "source": [
    "# problem with backprop\n",
    "a=Value(3.0,label=\"a\")\n",
    "b= a + a; b.label=\"b\"\n",
    "b.grad=1.0\n",
    "a._backward()\n",
    "draw_dot(b)"
   ]
  },
  {
   "cell_type": "code",
   "execution_count": 236,
   "id": "1c73f138-39ec-4b41-96d1-5cc381c3e264",
   "metadata": {},
   "outputs": [
    {
     "data": {
      "image/svg+xml": [
       "<?xml version=\"1.0\" encoding=\"UTF-8\" standalone=\"no\"?>\n",
       "<!DOCTYPE svg PUBLIC \"-//W3C//DTD SVG 1.1//EN\"\n",
       " \"http://www.w3.org/Graphics/SVG/1.1/DTD/svg11.dtd\">\n",
       "<!-- Generated by graphviz version 2.50.0 (0)\n",
       " -->\n",
       "<!-- Pages: 1 -->\n",
       "<svg width=\"825pt\" height=\"100pt\"\n",
       " viewBox=\"0.00 0.00 825.00 100.00\" xmlns=\"http://www.w3.org/2000/svg\" xmlns:xlink=\"http://www.w3.org/1999/xlink\">\n",
       "<g id=\"graph0\" class=\"graph\" transform=\"scale(1 1) rotate(0) translate(4 96)\">\n",
       "<polygon fill=\"white\" stroke=\"transparent\" points=\"-4,4 -4,-96 821,-96 821,4 -4,4\"/>\n",
       "<!-- 4923471488 -->\n",
       "<g id=\"node1\" class=\"node\">\n",
       "<title>4923471488</title>\n",
       "<polygon fill=\"none\" stroke=\"black\" points=\"0,-55.5 0,-91.5 190,-91.5 190,-55.5 0,-55.5\"/>\n",
       "<text text-anchor=\"middle\" x=\"11.5\" y=\"-69.8\" font-family=\"Times,serif\" font-size=\"14.00\">e</text>\n",
       "<polyline fill=\"none\" stroke=\"black\" points=\"23,-55.5 23,-91.5 \"/>\n",
       "<text text-anchor=\"middle\" x=\"65.5\" y=\"-69.8\" font-family=\"Times,serif\" font-size=\"14.00\">data &#45;2.0000</text>\n",
       "<polyline fill=\"none\" stroke=\"black\" points=\"108,-55.5 108,-91.5 \"/>\n",
       "<text text-anchor=\"middle\" x=\"149\" y=\"-69.8\" font-family=\"Times,serif\" font-size=\"14.00\">grad 0.0000</text>\n",
       "</g>\n",
       "<!-- 4923463616* -->\n",
       "<g id=\"node6\" class=\"node\">\n",
       "<title>4923463616*</title>\n",
       "<ellipse fill=\"none\" stroke=\"black\" cx=\"253\" cy=\"-73.5\" rx=\"27\" ry=\"18\"/>\n",
       "<text text-anchor=\"middle\" x=\"253\" y=\"-69.8\" font-family=\"Times,serif\" font-size=\"14.00\">*</text>\n",
       "</g>\n",
       "<!-- 4923471488&#45;&gt;4923463616* -->\n",
       "<g id=\"edge9\" class=\"edge\">\n",
       "<title>4923471488&#45;&gt;4923463616*</title>\n",
       "<path fill=\"none\" stroke=\"black\" d=\"M190.34,-73.5C199.26,-73.5 207.87,-73.5 215.69,-73.5\"/>\n",
       "<polygon fill=\"black\" stroke=\"black\" points=\"215.82,-77 225.82,-73.5 215.82,-70 215.82,-77\"/>\n",
       "</g>\n",
       "<!-- 4899086288+ -->\n",
       "<g id=\"node8\" class=\"node\">\n",
       "<title>4899086288+</title>\n",
       "<ellipse fill=\"none\" stroke=\"black\" cx=\"253\" cy=\"-18.5\" rx=\"27\" ry=\"18\"/>\n",
       "<text text-anchor=\"middle\" x=\"253\" y=\"-14.8\" font-family=\"Times,serif\" font-size=\"14.00\">+</text>\n",
       "</g>\n",
       "<!-- 4923471488&#45;&gt;4899086288+ -->\n",
       "<g id=\"edge6\" class=\"edge\">\n",
       "<title>4923471488&#45;&gt;4899086288+</title>\n",
       "<path fill=\"none\" stroke=\"black\" d=\"M163.39,-55.42C172.4,-52.63 181.47,-49.63 190,-46.5 200.5,-42.64 211.72,-37.81 221.69,-33.24\"/>\n",
       "<polygon fill=\"black\" stroke=\"black\" points=\"223.21,-36.39 230.8,-28.99 220.26,-30.05 223.21,-36.39\"/>\n",
       "</g>\n",
       "<!-- 4899087008 -->\n",
       "<g id=\"node2\" class=\"node\">\n",
       "<title>4899087008</title>\n",
       "<polygon fill=\"none\" stroke=\"black\" points=\"630,-27.5 630,-63.5 817,-63.5 817,-27.5 630,-27.5\"/>\n",
       "<text text-anchor=\"middle\" x=\"640\" y=\"-41.8\" font-family=\"Times,serif\" font-size=\"14.00\"> </text>\n",
       "<polyline fill=\"none\" stroke=\"black\" points=\"650,-27.5 650,-63.5 \"/>\n",
       "<text text-anchor=\"middle\" x=\"692.5\" y=\"-41.8\" font-family=\"Times,serif\" font-size=\"14.00\">data &#45;6.0000</text>\n",
       "<polyline fill=\"none\" stroke=\"black\" points=\"735,-27.5 735,-63.5 \"/>\n",
       "<text text-anchor=\"middle\" x=\"776\" y=\"-41.8\" font-family=\"Times,serif\" font-size=\"14.00\">grad 0.0000</text>\n",
       "</g>\n",
       "<!-- 4899087008* -->\n",
       "<g id=\"node3\" class=\"node\">\n",
       "<title>4899087008*</title>\n",
       "<ellipse fill=\"none\" stroke=\"black\" cx=\"567\" cy=\"-45.5\" rx=\"27\" ry=\"18\"/>\n",
       "<text text-anchor=\"middle\" x=\"567\" y=\"-41.8\" font-family=\"Times,serif\" font-size=\"14.00\">*</text>\n",
       "</g>\n",
       "<!-- 4899087008*&#45;&gt;4899087008 -->\n",
       "<g id=\"edge1\" class=\"edge\">\n",
       "<title>4899087008*&#45;&gt;4899087008</title>\n",
       "<path fill=\"none\" stroke=\"black\" d=\"M594.21,-45.5C601.73,-45.5 610.43,-45.5 619.67,-45.5\"/>\n",
       "<polygon fill=\"black\" stroke=\"black\" points=\"619.89,-49 629.89,-45.5 619.89,-42 619.89,-49\"/>\n",
       "</g>\n",
       "<!-- 4923471008 -->\n",
       "<g id=\"node4\" class=\"node\">\n",
       "<title>4923471008</title>\n",
       "<polygon fill=\"none\" stroke=\"black\" points=\"2.5,-0.5 2.5,-36.5 187.5,-36.5 187.5,-0.5 2.5,-0.5\"/>\n",
       "<text text-anchor=\"middle\" x=\"14\" y=\"-14.8\" font-family=\"Times,serif\" font-size=\"14.00\">b</text>\n",
       "<polyline fill=\"none\" stroke=\"black\" points=\"25.5,-0.5 25.5,-36.5 \"/>\n",
       "<text text-anchor=\"middle\" x=\"65.5\" y=\"-14.8\" font-family=\"Times,serif\" font-size=\"14.00\">data 3.0000</text>\n",
       "<polyline fill=\"none\" stroke=\"black\" points=\"105.5,-0.5 105.5,-36.5 \"/>\n",
       "<text text-anchor=\"middle\" x=\"146.5\" y=\"-14.8\" font-family=\"Times,serif\" font-size=\"14.00\">grad 0.0000</text>\n",
       "</g>\n",
       "<!-- 4923471008&#45;&gt;4923463616* -->\n",
       "<g id=\"edge5\" class=\"edge\">\n",
       "<title>4923471008&#45;&gt;4923463616*</title>\n",
       "<path fill=\"none\" stroke=\"black\" d=\"M160.31,-36.52C170.31,-39.65 180.48,-43.02 190,-46.5 200.26,-50.25 211.24,-54.83 221.08,-59.16\"/>\n",
       "<polygon fill=\"black\" stroke=\"black\" points=\"219.9,-62.46 230.45,-63.35 222.75,-56.07 219.9,-62.46\"/>\n",
       "</g>\n",
       "<!-- 4923471008&#45;&gt;4899086288+ -->\n",
       "<g id=\"edge7\" class=\"edge\">\n",
       "<title>4923471008&#45;&gt;4899086288+</title>\n",
       "<path fill=\"none\" stroke=\"black\" d=\"M187.65,-18.5C197.55,-18.5 207.15,-18.5 215.78,-18.5\"/>\n",
       "<polygon fill=\"black\" stroke=\"black\" points=\"215.78,-22 225.78,-18.5 215.78,-15 215.78,-22\"/>\n",
       "</g>\n",
       "<!-- 4923463616 -->\n",
       "<g id=\"node5\" class=\"node\">\n",
       "<title>4923463616</title>\n",
       "<polygon fill=\"none\" stroke=\"black\" points=\"316,-55.5 316,-91.5 504,-91.5 504,-55.5 316,-55.5\"/>\n",
       "<text text-anchor=\"middle\" x=\"326.5\" y=\"-69.8\" font-family=\"Times,serif\" font-size=\"14.00\">f</text>\n",
       "<polyline fill=\"none\" stroke=\"black\" points=\"337,-55.5 337,-91.5 \"/>\n",
       "<text text-anchor=\"middle\" x=\"379.5\" y=\"-69.8\" font-family=\"Times,serif\" font-size=\"14.00\">data &#45;6.0000</text>\n",
       "<polyline fill=\"none\" stroke=\"black\" points=\"422,-55.5 422,-91.5 \"/>\n",
       "<text text-anchor=\"middle\" x=\"463\" y=\"-69.8\" font-family=\"Times,serif\" font-size=\"14.00\">grad 0.0000</text>\n",
       "</g>\n",
       "<!-- 4923463616&#45;&gt;4899087008* -->\n",
       "<g id=\"edge4\" class=\"edge\">\n",
       "<title>4923463616&#45;&gt;4899087008*</title>\n",
       "<path fill=\"none\" stroke=\"black\" d=\"M504.29,-56.65C513.57,-54.97 522.52,-53.35 530.61,-51.89\"/>\n",
       "<polygon fill=\"black\" stroke=\"black\" points=\"531.46,-55.3 540.68,-50.07 530.21,-48.41 531.46,-55.3\"/>\n",
       "</g>\n",
       "<!-- 4923463616*&#45;&gt;4923463616 -->\n",
       "<g id=\"edge2\" class=\"edge\">\n",
       "<title>4923463616*&#45;&gt;4923463616</title>\n",
       "<path fill=\"none\" stroke=\"black\" d=\"M280.29,-73.5C287.78,-73.5 296.42,-73.5 305.6,-73.5\"/>\n",
       "<polygon fill=\"black\" stroke=\"black\" points=\"305.76,-77 315.76,-73.5 305.76,-70 305.76,-77\"/>\n",
       "</g>\n",
       "<!-- 4899086288 -->\n",
       "<g id=\"node7\" class=\"node\">\n",
       "<title>4899086288</title>\n",
       "<polygon fill=\"none\" stroke=\"black\" points=\"319,-0.5 319,-36.5 501,-36.5 501,-0.5 319,-0.5\"/>\n",
       "<text text-anchor=\"middle\" x=\"329\" y=\"-14.8\" font-family=\"Times,serif\" font-size=\"14.00\"> </text>\n",
       "<polyline fill=\"none\" stroke=\"black\" points=\"339,-0.5 339,-36.5 \"/>\n",
       "<text text-anchor=\"middle\" x=\"379\" y=\"-14.8\" font-family=\"Times,serif\" font-size=\"14.00\">data 1.0000</text>\n",
       "<polyline fill=\"none\" stroke=\"black\" points=\"419,-0.5 419,-36.5 \"/>\n",
       "<text text-anchor=\"middle\" x=\"460\" y=\"-14.8\" font-family=\"Times,serif\" font-size=\"14.00\">grad 0.0000</text>\n",
       "</g>\n",
       "<!-- 4899086288&#45;&gt;4899087008* -->\n",
       "<g id=\"edge8\" class=\"edge\">\n",
       "<title>4899086288&#45;&gt;4899087008*</title>\n",
       "<path fill=\"none\" stroke=\"black\" d=\"M501.16,-34.21C511.6,-36.02 521.72,-37.79 530.74,-39.36\"/>\n",
       "<polygon fill=\"black\" stroke=\"black\" points=\"530.33,-42.84 540.78,-41.11 531.53,-35.94 530.33,-42.84\"/>\n",
       "</g>\n",
       "<!-- 4899086288+&#45;&gt;4899086288 -->\n",
       "<g id=\"edge3\" class=\"edge\">\n",
       "<title>4899086288+&#45;&gt;4899086288</title>\n",
       "<path fill=\"none\" stroke=\"black\" d=\"M280.29,-18.5C288.61,-18.5 298.34,-18.5 308.67,-18.5\"/>\n",
       "<polygon fill=\"black\" stroke=\"black\" points=\"308.73,-22 318.73,-18.5 308.73,-15 308.73,-22\"/>\n",
       "</g>\n",
       "</g>\n",
       "</svg>\n"
      ],
      "text/plain": [
       "<graphviz.graphs.Digraph at 0x1240209e0>"
      ]
     },
     "execution_count": 236,
     "metadata": {},
     "output_type": "execute_result"
    }
   ],
   "source": [
    "# Problem with backprop\n",
    "a=Value(-2.0,label=\"a\")\n",
    "b=Value(3.0,label=\"b\")\n",
    "d=a*b; d.label=\"d\"\n",
    "e = a+b; a.label=\"e\"\n",
    "f=d*e; d.label=\"f\"\n",
    "\n",
    "draw_dot(f)"
   ]
  },
  {
   "cell_type": "code",
   "execution_count": null,
   "id": "5e8040af-f7bb-4c32-b5b7-42db770f8c76",
   "metadata": {},
   "outputs": [],
   "source": []
  }
 ],
 "metadata": {
  "kernelspec": {
   "display_name": "Python 3 (ipykernel)",
   "language": "python",
   "name": "python3"
  },
  "language_info": {
   "codemirror_mode": {
    "name": "ipython",
    "version": 3
   },
   "file_extension": ".py",
   "mimetype": "text/x-python",
   "name": "python",
   "nbconvert_exporter": "python",
   "pygments_lexer": "ipython3",
   "version": "3.12.7"
  }
 },
 "nbformat": 4,
 "nbformat_minor": 5
}
